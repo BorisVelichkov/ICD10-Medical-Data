{
 "cells": [
  {
   "cell_type": "markdown",
   "metadata": {},
   "source": [
    "# ICD10 Datasets Unifier"
   ]
  },
  {
   "cell_type": "code",
   "execution_count": 1,
   "metadata": {
    "collapsed": true
   },
   "outputs": [],
   "source": [
    "import numpy as np\n",
    "import pandas as pd\n",
    "import re"
   ]
  },
  {
   "cell_type": "code",
   "execution_count": 2,
   "metadata": {
    "collapsed": true
   },
   "outputs": [],
   "source": [
    "IS_CREATING_3SIGN_CODES = True"
   ]
  },
  {
   "cell_type": "markdown",
   "metadata": {},
   "source": [
    "### Constants and Datasets Names"
   ]
  },
  {
   "cell_type": "code",
   "execution_count": 3,
   "metadata": {
    "collapsed": true
   },
   "outputs": [],
   "source": [
    "CODE_PATTERN = '^([A-Z][0-9]{2}(?:\\.[0-9]{1})?)$'\n",
    "\n",
    "READ_DIR = '../datasets/ICD10_Training_data_3sign/' if IS_CREATING_3SIGN_CODES else '../datasets/ICD10_Training_data_4sign/'\n",
    "WRITE_DIR = '../datasets/'\n",
    "INVALID_CODES_FILE_NAME = 'invalid_codes_3sign.txt' if IS_CREATING_3SIGN_CODES else 'invalid_codes_4sign.txt'\n",
    "RESULT_FILE_NAME = 'ICD10_all_3sign.csv' if IS_CREATING_3SIGN_CODES else 'ICD10_all_4sign.csv'"
   ]
  },
  {
   "cell_type": "code",
   "execution_count": 4,
   "metadata": {
    "collapsed": true
   },
   "outputs": [],
   "source": [
    "dataset_names_3sign = [\"ICD10_bg_3sign.csv\",\n",
    "                       \"ICD10_golden standard_3sign.csv\",\n",
    "                       \"ICD10-MSWord_3sign.csv\",\n",
    "                       \"Wikidata_ICD10_3sign_bg.csv\",\n",
    "                       \"Wikidata_ICD10_3sign_lat.csv\",\n",
    "                       \"Wikidata_ICD10_3sign_lat_transliterated.csv\"]\n",
    "dataset_names_4sign = [\"ICD10_bg_4sign.csv\",\n",
    "                       \"ICD10_golden standard_4sign.csv\",\n",
    "                       \"ICD10-MSWord_4sign.csv\",\n",
    "                       \"Wikidata_ICD10_4sign_bg.csv\",\n",
    "                       \"Wikidata_ICD10_4sign_lat.csv\",\n",
    "                       \"Wikidata_ICD10_4sign_lat_transliterated.csv\"]"
   ]
  },
  {
   "cell_type": "code",
   "execution_count": 5,
   "metadata": {
    "collapsed": true
   },
   "outputs": [],
   "source": [
    "dataset_keys = [\"icd10_bg\",\n",
    "                \"icd10_gs\",\n",
    "                \"icd10_ms\",\n",
    "                \"icd10_wd_bg\",\n",
    "                \"icd10_wd_lt\",\n",
    "                \"icd10_wd_trl\"]\n",
    "dataset_names = dataset_names_3sign if IS_CREATING_3SIGN_CODES else dataset_names_4sign\n",
    "datasets = dict(zip(dataset_keys, dataset_names))"
   ]
  },
  {
   "cell_type": "markdown",
   "metadata": {},
   "source": [
    "### Refactor Code Methods"
   ]
  },
  {
   "cell_type": "code",
   "execution_count": 6,
   "metadata": {
    "code_folding": [
     1
    ],
    "collapsed": true
   },
   "outputs": [],
   "source": [
    "# http://homoglyphs.net/\n",
    "def replace_homoglyphs(s):\n",
    "    \"\"\"Replace Homoglyphs: Cyrillic Capital Letters to Latin Capital Letters!\"\"\"\n",
    "    s = s.replace('А', 'A')\n",
    "    s = s.replace('В', 'B')\n",
    "    s = s.replace('С', 'C')\n",
    "    s = s.replace('Е', 'E')\n",
    "    s = s.replace('Н', 'H')\n",
    "    s = s.replace('І', 'I')\n",
    "    s = s.replace('Ј', 'J')\n",
    "    s = s.replace('К', 'K')\n",
    "    s = s.replace('М', 'M')\n",
    "    s = s.replace('О', 'O')\n",
    "    s = s.replace('Р', 'P')\n",
    "    s = s.replace('Ѕ', 'S')\n",
    "    s = s.replace('Т', 'T')\n",
    "    s = s.replace('Ѵ', 'V')\n",
    "    s = s.replace('Х', 'X')\n",
    "    s = s.replace('У', 'Y')\n",
    "    s = s.replace('Ү', 'Y')\n",
    "    return s"
   ]
  },
  {
   "cell_type": "code",
   "execution_count": 7,
   "metadata": {
    "collapsed": true
   },
   "outputs": [],
   "source": [
    "def remove_star_end(code):\n",
    "    if re.match(r'^([A-Z][0-9]{2}\\*)$', code):\n",
    "        return code[0:3]\n",
    "    return code"
   ]
  },
  {
   "cell_type": "code",
   "execution_count": 8,
   "metadata": {
    "collapsed": true
   },
   "outputs": [],
   "source": [
    "def remove_dot_dash_end(code):\n",
    "    if re.match(r'^([A-Z][0-9]{2}\\.-)$', code):\n",
    "        return code[0:3]\n",
    "    return code"
   ]
  },
  {
   "cell_type": "code",
   "execution_count": 9,
   "metadata": {
    "collapsed": true
   },
   "outputs": [],
   "source": [
    "def convert_5sign_to_4sign(code):\n",
    "    if re.match(r'^([A-Z][0-9]{2}\\.[0-9]{2})$', code):\n",
    "        return code[0:5]\n",
    "    return code"
   ]
  },
  {
   "cell_type": "code",
   "execution_count": 10,
   "metadata": {
    "collapsed": true
   },
   "outputs": [],
   "source": [
    "def refactor_code(code):\n",
    "    code = code.upper()\n",
    "    code = replace_homoglyphs(code)\n",
    "    code = remove_star_end(code)\n",
    "    code = remove_dot_dash_end(code)\n",
    "    code = convert_5sign_to_4sign(code)\n",
    "    return code"
   ]
  },
  {
   "cell_type": "code",
   "execution_count": 11,
   "metadata": {
    "collapsed": true
   },
   "outputs": [],
   "source": [
    "def refactor_codes(df):\n",
    "    df['ICD10'] = df['ICD10'].apply(lambda x: refactor_code(x))"
   ]
  },
  {
   "cell_type": "code",
   "execution_count": 12,
   "metadata": {
    "collapsed": true
   },
   "outputs": [],
   "source": [
    "def get_invalid_codes(df, pattern):\n",
    "    return list(df[~df['ICD10'].str.contains(pattern)]['ICD10'].unique())"
   ]
  },
  {
   "cell_type": "code",
   "execution_count": 13,
   "metadata": {
    "collapsed": true
   },
   "outputs": [],
   "source": [
    "def get_valid_df(df, pattern):\n",
    "    return df[df['ICD10'].str.contains(pattern)]"
   ]
  },
  {
   "cell_type": "markdown",
   "metadata": {},
   "source": [
    "### Read Datasets"
   ]
  },
  {
   "cell_type": "code",
   "execution_count": 14,
   "metadata": {},
   "outputs": [
    {
     "data": {
      "text/html": [
       "<div>\n",
       "<style scoped>\n",
       "    .dataframe tbody tr th:only-of-type {\n",
       "        vertical-align: middle;\n",
       "    }\n",
       "\n",
       "    .dataframe tbody tr th {\n",
       "        vertical-align: top;\n",
       "    }\n",
       "\n",
       "    .dataframe thead th {\n",
       "        text-align: right;\n",
       "    }\n",
       "</style>\n",
       "<table border=\"1\" class=\"dataframe\">\n",
       "  <thead>\n",
       "    <tr style=\"text-align: right;\">\n",
       "      <th></th>\n",
       "      <th>ICD10</th>\n",
       "      <th>Text</th>\n",
       "    </tr>\n",
       "  </thead>\n",
       "  <tbody>\n",
       "    <tr>\n",
       "      <th>0</th>\n",
       "      <td>A00</td>\n",
       "      <td>Холера</td>\n",
       "    </tr>\n",
       "    <tr>\n",
       "      <th>1</th>\n",
       "      <td>A00</td>\n",
       "      <td>Холера, предизвикана от холерен вибрион 01, би...</td>\n",
       "    </tr>\n",
       "    <tr>\n",
       "      <th>2</th>\n",
       "      <td>A00</td>\n",
       "      <td>Холера, предизвикана от холерен вибрион 01, би...</td>\n",
       "    </tr>\n",
       "    <tr>\n",
       "      <th>3</th>\n",
       "      <td>A00</td>\n",
       "      <td>Холера, неуточнена</td>\n",
       "    </tr>\n",
       "    <tr>\n",
       "      <th>4</th>\n",
       "      <td>A01</td>\n",
       "      <td>Тиф и паратиф</td>\n",
       "    </tr>\n",
       "  </tbody>\n",
       "</table>\n",
       "</div>"
      ],
      "text/plain": [
       "  ICD10                                               Text\n",
       "0   A00                                             Холера\n",
       "1   A00  Холера, предизвикана от холерен вибрион 01, би...\n",
       "2   A00  Холера, предизвикана от холерен вибрион 01, би...\n",
       "3   A00                                 Холера, неуточнена\n",
       "4   A01                                      Тиф и паратиф"
      ]
     },
     "execution_count": 14,
     "metadata": {},
     "output_type": "execute_result"
    }
   ],
   "source": [
    "file_name = '{0}{1}'.format(READ_DIR, datasets['icd10_bg'])\n",
    "df_icd10_bg = pd.read_csv(file_name, header=None, names=['ICD10', 'Text'])\n",
    "df_icd10_bg.head()"
   ]
  },
  {
   "cell_type": "code",
   "execution_count": 15,
   "metadata": {},
   "outputs": [
    {
     "data": {
      "text/html": [
       "<div>\n",
       "<style scoped>\n",
       "    .dataframe tbody tr th:only-of-type {\n",
       "        vertical-align: middle;\n",
       "    }\n",
       "\n",
       "    .dataframe tbody tr th {\n",
       "        vertical-align: top;\n",
       "    }\n",
       "\n",
       "    .dataframe thead th {\n",
       "        text-align: right;\n",
       "    }\n",
       "</style>\n",
       "<table border=\"1\" class=\"dataframe\">\n",
       "  <thead>\n",
       "    <tr style=\"text-align: right;\">\n",
       "      <th></th>\n",
       "      <th>ICD10</th>\n",
       "      <th>Text</th>\n",
       "    </tr>\n",
       "  </thead>\n",
       "  <tbody>\n",
       "    <tr>\n",
       "      <th>0</th>\n",
       "      <td>A08</td>\n",
       "      <td>гастроентеропатия</td>\n",
       "    </tr>\n",
       "    <tr>\n",
       "      <th>1</th>\n",
       "      <td>A17</td>\n",
       "      <td>туберкулом</td>\n",
       "    </tr>\n",
       "    <tr>\n",
       "      <th>2</th>\n",
       "      <td>A26</td>\n",
       "      <td>еризипел</td>\n",
       "    </tr>\n",
       "    <tr>\n",
       "      <th>3</th>\n",
       "      <td>A66</td>\n",
       "      <td>латентна левостранна хемипареза</td>\n",
       "    </tr>\n",
       "    <tr>\n",
       "      <th>4</th>\n",
       "      <td>A66</td>\n",
       "      <td>десностранна латентна хемипареза</td>\n",
       "    </tr>\n",
       "  </tbody>\n",
       "</table>\n",
       "</div>"
      ],
      "text/plain": [
       "  ICD10                              Text\n",
       "0   A08                 гастроентеропатия\n",
       "1   A17                        туберкулом\n",
       "2   A26                          еризипел\n",
       "3   A66   латентна левостранна хемипареза\n",
       "4   A66  десностранна латентна хемипареза"
      ]
     },
     "execution_count": 15,
     "metadata": {},
     "output_type": "execute_result"
    }
   ],
   "source": [
    "file_name = '{0}{1}'.format(READ_DIR, datasets['icd10_gs'])\n",
    "df_icd10_gs = pd.read_csv(file_name, header=None, names=['ICD10', 'Text'])\n",
    "df_icd10_gs.head()"
   ]
  },
  {
   "cell_type": "code",
   "execution_count": 16,
   "metadata": {},
   "outputs": [
    {
     "data": {
      "text/html": [
       "<div>\n",
       "<style scoped>\n",
       "    .dataframe tbody tr th:only-of-type {\n",
       "        vertical-align: middle;\n",
       "    }\n",
       "\n",
       "    .dataframe tbody tr th {\n",
       "        vertical-align: top;\n",
       "    }\n",
       "\n",
       "    .dataframe thead th {\n",
       "        text-align: right;\n",
       "    }\n",
       "</style>\n",
       "<table border=\"1\" class=\"dataframe\">\n",
       "  <thead>\n",
       "    <tr style=\"text-align: right;\">\n",
       "      <th></th>\n",
       "      <th>ICD10</th>\n",
       "      <th>Text</th>\n",
       "    </tr>\n",
       "  </thead>\n",
       "  <tbody>\n",
       "    <tr>\n",
       "      <th>0</th>\n",
       "      <td>Абазия астазия хистерична</td>\n",
       "      <td>NaN</td>\n",
       "    </tr>\n",
       "    <tr>\n",
       "      <th>1</th>\n",
       "      <td>Аберантен вроден артерия периферна ,</td>\n",
       "      <td>NaN</td>\n",
       "    </tr>\n",
       "    <tr>\n",
       "      <th>2</th>\n",
       "      <td>Аберантен вроден вена периферна ,</td>\n",
       "      <td>NaN</td>\n",
       "    </tr>\n",
       "    <tr>\n",
       "      <th>3</th>\n",
       "      <td>Аберантен вроден гърда</td>\n",
       "      <td>NaN</td>\n",
       "    </tr>\n",
       "    <tr>\n",
       "      <th>4</th>\n",
       "      <td>Аберантен вроден ендокринна жлеза,</td>\n",
       "      <td>NaN</td>\n",
       "    </tr>\n",
       "  </tbody>\n",
       "</table>\n",
       "</div>"
      ],
      "text/plain": [
       "                                  ICD10 Text\n",
       "0            Абазия астазия хистерична   NaN\n",
       "1  Аберантен вроден артерия периферна ,  NaN\n",
       "2     Аберантен вроден вена периферна ,  NaN\n",
       "3                Аберантен вроден гърда  NaN\n",
       "4    Аберантен вроден ендокринна жлеза,  NaN"
      ]
     },
     "execution_count": 16,
     "metadata": {},
     "output_type": "execute_result"
    }
   ],
   "source": [
    "file_name = '{0}{1}'.format(READ_DIR, datasets['icd10_ms'])\n",
    "df_icd10_ms = pd.read_csv(file_name, usecols=[1,2])\n",
    "df_icd10_ms.columns = ['ICD10', 'Text']\n",
    "df_icd10_ms.head()"
   ]
  },
  {
   "cell_type": "code",
   "execution_count": 17,
   "metadata": {},
   "outputs": [
    {
     "data": {
      "text/html": [
       "<div>\n",
       "<style scoped>\n",
       "    .dataframe tbody tr th:only-of-type {\n",
       "        vertical-align: middle;\n",
       "    }\n",
       "\n",
       "    .dataframe tbody tr th {\n",
       "        vertical-align: top;\n",
       "    }\n",
       "\n",
       "    .dataframe thead th {\n",
       "        text-align: right;\n",
       "    }\n",
       "</style>\n",
       "<table border=\"1\" class=\"dataframe\">\n",
       "  <thead>\n",
       "    <tr style=\"text-align: right;\">\n",
       "      <th></th>\n",
       "      <th>ICD10</th>\n",
       "      <th>Text</th>\n",
       "    </tr>\n",
       "  </thead>\n",
       "  <tbody>\n",
       "    <tr>\n",
       "      <th>0</th>\n",
       "      <td>B40</td>\n",
       "      <td>Бластомикоза и болест на Чикаго</td>\n",
       "    </tr>\n",
       "    <tr>\n",
       "      <th>1</th>\n",
       "      <td>B40</td>\n",
       "      <td>Бластомикоза и болест на Гилкристите</td>\n",
       "    </tr>\n",
       "    <tr>\n",
       "      <th>2</th>\n",
       "      <td>B40</td>\n",
       "      <td>Бластомикоза и северноамериканска</td>\n",
       "    </tr>\n",
       "    <tr>\n",
       "      <th>3</th>\n",
       "      <td>B85</td>\n",
       "      <td>Лайсна зараза и въшки</td>\n",
       "    </tr>\n",
       "    <tr>\n",
       "      <th>4</th>\n",
       "      <td>B85</td>\n",
       "      <td>Лека зараза и педикулоза и фтирус</td>\n",
       "    </tr>\n",
       "  </tbody>\n",
       "</table>\n",
       "</div>"
      ],
      "text/plain": [
       "  ICD10                                   Text\n",
       "0   B40       Бластомикоза и болест на Чикаго \n",
       "1   B40  Бластомикоза и болест на Гилкристите \n",
       "2   B40     Бластомикоза и северноамериканска \n",
       "3   B85                 Лайсна зараза и въшки \n",
       "4   B85     Лека зараза и педикулоза и фтирус "
      ]
     },
     "execution_count": 17,
     "metadata": {},
     "output_type": "execute_result"
    }
   ],
   "source": [
    "file_name = '{0}{1}'.format(READ_DIR, datasets['icd10_wd_bg'])\n",
    "df_icd10_wd_bg = pd.read_csv(file_name, header=None, names=['Text', 'ICD10'])\n",
    "df_icd10_wd_bg = df_icd10_wd_bg[['ICD10', 'Text']]\n",
    "df_icd10_wd_bg.head()"
   ]
  },
  {
   "cell_type": "code",
   "execution_count": 18,
   "metadata": {},
   "outputs": [
    {
     "data": {
      "text/html": [
       "<div>\n",
       "<style scoped>\n",
       "    .dataframe tbody tr th:only-of-type {\n",
       "        vertical-align: middle;\n",
       "    }\n",
       "\n",
       "    .dataframe tbody tr th {\n",
       "        vertical-align: top;\n",
       "    }\n",
       "\n",
       "    .dataframe thead th {\n",
       "        text-align: right;\n",
       "    }\n",
       "</style>\n",
       "<table border=\"1\" class=\"dataframe\">\n",
       "  <thead>\n",
       "    <tr style=\"text-align: right;\">\n",
       "      <th></th>\n",
       "      <th>ICD10</th>\n",
       "      <th>Text</th>\n",
       "    </tr>\n",
       "  </thead>\n",
       "  <tbody>\n",
       "    <tr>\n",
       "      <th>0</th>\n",
       "      <td>B40</td>\n",
       "      <td>Et Chicago morbo BLASTOMYCOSIS</td>\n",
       "    </tr>\n",
       "    <tr>\n",
       "      <th>1</th>\n",
       "      <td>B40</td>\n",
       "      <td>Et BLASTOMYCOSIS morbo Gilchrists</td>\n",
       "    </tr>\n",
       "    <tr>\n",
       "      <th>2</th>\n",
       "      <td>B40</td>\n",
       "      <td>Et North American BLASTOMYCOSIS</td>\n",
       "    </tr>\n",
       "    <tr>\n",
       "      <th>3</th>\n",
       "      <td>B85</td>\n",
       "      <td>Pediculus Pediculus humanus quod sit infestatio,</td>\n",
       "    </tr>\n",
       "    <tr>\n",
       "      <th>4</th>\n",
       "      <td>B85</td>\n",
       "      <td>Pediculus humanus pediculosis quod infestatio ...</td>\n",
       "    </tr>\n",
       "  </tbody>\n",
       "</table>\n",
       "</div>"
      ],
      "text/plain": [
       "  ICD10                                               Text\n",
       "0   B40                    Et Chicago morbo BLASTOMYCOSIS \n",
       "1   B40                 Et BLASTOMYCOSIS morbo Gilchrists \n",
       "2   B40                   Et North American BLASTOMYCOSIS \n",
       "3   B85  Pediculus Pediculus humanus quod sit infestatio, \n",
       "4   B85  Pediculus humanus pediculosis quod infestatio ..."
      ]
     },
     "execution_count": 18,
     "metadata": {},
     "output_type": "execute_result"
    }
   ],
   "source": [
    "file_name = '{0}{1}'.format(READ_DIR, datasets['icd10_wd_lt'])\n",
    "df_icd10_wd_lt = pd.read_csv(file_name, header=None, names=['Text', 'ICD10'])\n",
    "df_icd10_wd_lt = df_icd10_wd_lt[['ICD10', 'Text']]\n",
    "df_icd10_wd_lt.head()"
   ]
  },
  {
   "cell_type": "code",
   "execution_count": 19,
   "metadata": {},
   "outputs": [
    {
     "data": {
      "text/html": [
       "<div>\n",
       "<style scoped>\n",
       "    .dataframe tbody tr th:only-of-type {\n",
       "        vertical-align: middle;\n",
       "    }\n",
       "\n",
       "    .dataframe tbody tr th {\n",
       "        vertical-align: top;\n",
       "    }\n",
       "\n",
       "    .dataframe thead th {\n",
       "        text-align: right;\n",
       "    }\n",
       "</style>\n",
       "<table border=\"1\" class=\"dataframe\">\n",
       "  <thead>\n",
       "    <tr style=\"text-align: right;\">\n",
       "      <th></th>\n",
       "      <th>ICD10</th>\n",
       "      <th>Text</th>\n",
       "    </tr>\n",
       "  </thead>\n",
       "  <tbody>\n",
       "    <tr>\n",
       "      <th>0</th>\n",
       "      <td>B40</td>\n",
       "      <td>﻿ет хикаго морбо бластомикозис</td>\n",
       "    </tr>\n",
       "    <tr>\n",
       "      <th>1</th>\n",
       "      <td>B40</td>\n",
       "      <td>ет бластомикозис морбо гилхристс</td>\n",
       "    </tr>\n",
       "    <tr>\n",
       "      <th>2</th>\n",
       "      <td>B40</td>\n",
       "      <td>ет норт американ бластомикозис</td>\n",
       "    </tr>\n",
       "    <tr>\n",
       "      <th>3</th>\n",
       "      <td>B85</td>\n",
       "      <td>педикулус педикулус хуманус квод сит инфестацио,</td>\n",
       "    </tr>\n",
       "    <tr>\n",
       "      <th>4</th>\n",
       "      <td>B85</td>\n",
       "      <td>педикулус хуманус педикулозис квод инфестацио ...</td>\n",
       "    </tr>\n",
       "  </tbody>\n",
       "</table>\n",
       "</div>"
      ],
      "text/plain": [
       "  ICD10                                               Text\n",
       "0   B40                    ﻿ет хикаго морбо бластомикозис \n",
       "1   B40                  ет бластомикозис морбо гилхристс \n",
       "2   B40                    ет норт американ бластомикозис \n",
       "3   B85  педикулус педикулус хуманус квод сит инфестацио, \n",
       "4   B85  педикулус хуманус педикулозис квод инфестацио ..."
      ]
     },
     "execution_count": 19,
     "metadata": {},
     "output_type": "execute_result"
    }
   ],
   "source": [
    "file_name = '{0}{1}'.format(READ_DIR, datasets['icd10_wd_trl'])\n",
    "df_icd10_wd_trl = pd.read_csv(file_name, usecols=[1,2], header=None, names=['ICD10', 'Text'])\n",
    "df_icd10_wd_trl.head()"
   ]
  },
  {
   "cell_type": "markdown",
   "metadata": {},
   "source": [
    "### Create and Refactor Dataframe"
   ]
  },
  {
   "cell_type": "markdown",
   "metadata": {},
   "source": [
    "___Create Dataframe___"
   ]
  },
  {
   "cell_type": "code",
   "execution_count": 20,
   "metadata": {
    "collapsed": true
   },
   "outputs": [],
   "source": [
    "dfs = [df_icd10_bg, df_icd10_gs, df_icd10_ms, df_icd10_wd_bg, df_icd10_wd_trl]"
   ]
  },
  {
   "cell_type": "code",
   "execution_count": 21,
   "metadata": {},
   "outputs": [
    {
     "data": {
      "text/html": [
       "<div>\n",
       "<style scoped>\n",
       "    .dataframe tbody tr th:only-of-type {\n",
       "        vertical-align: middle;\n",
       "    }\n",
       "\n",
       "    .dataframe tbody tr th {\n",
       "        vertical-align: top;\n",
       "    }\n",
       "\n",
       "    .dataframe thead th {\n",
       "        text-align: right;\n",
       "    }\n",
       "</style>\n",
       "<table border=\"1\" class=\"dataframe\">\n",
       "  <thead>\n",
       "    <tr style=\"text-align: right;\">\n",
       "      <th></th>\n",
       "      <th>ICD10</th>\n",
       "      <th>Text</th>\n",
       "    </tr>\n",
       "  </thead>\n",
       "  <tbody>\n",
       "    <tr>\n",
       "      <th>0</th>\n",
       "      <td>A00</td>\n",
       "      <td>Холера</td>\n",
       "    </tr>\n",
       "    <tr>\n",
       "      <th>1</th>\n",
       "      <td>A00</td>\n",
       "      <td>Холера, предизвикана от холерен вибрион 01, би...</td>\n",
       "    </tr>\n",
       "    <tr>\n",
       "      <th>2</th>\n",
       "      <td>A00</td>\n",
       "      <td>Холера, предизвикана от холерен вибрион 01, би...</td>\n",
       "    </tr>\n",
       "    <tr>\n",
       "      <th>3</th>\n",
       "      <td>A00</td>\n",
       "      <td>Холера, неуточнена</td>\n",
       "    </tr>\n",
       "    <tr>\n",
       "      <th>4</th>\n",
       "      <td>A01</td>\n",
       "      <td>Тиф и паратиф</td>\n",
       "    </tr>\n",
       "  </tbody>\n",
       "</table>\n",
       "</div>"
      ],
      "text/plain": [
       "  ICD10                                               Text\n",
       "0   A00                                             Холера\n",
       "1   A00  Холера, предизвикана от холерен вибрион 01, би...\n",
       "2   A00  Холера, предизвикана от холерен вибрион 01, би...\n",
       "3   A00                                 Холера, неуточнена\n",
       "4   A01                                      Тиф и паратиф"
      ]
     },
     "execution_count": 21,
     "metadata": {},
     "output_type": "execute_result"
    }
   ],
   "source": [
    "df = pd.concat(dfs, ignore_index=True)\n",
    "df.head()"
   ]
  },
  {
   "cell_type": "code",
   "execution_count": 22,
   "metadata": {},
   "outputs": [
    {
     "data": {
      "text/plain": [
       "(149504, 2)"
      ]
     },
     "execution_count": 22,
     "metadata": {},
     "output_type": "execute_result"
    }
   ],
   "source": [
    "df.shape"
   ]
  },
  {
   "cell_type": "markdown",
   "metadata": {},
   "source": [
    "___Refactor Dataframe___"
   ]
  },
  {
   "cell_type": "code",
   "execution_count": 23,
   "metadata": {
    "collapsed": true
   },
   "outputs": [],
   "source": [
    "refactor_codes(df)"
   ]
  },
  {
   "cell_type": "code",
   "execution_count": 24,
   "metadata": {},
   "outputs": [
    {
     "name": "stderr",
     "output_type": "stream",
     "text": [
      "C:\\ProgramData\\Anaconda3\\lib\\site-packages\\pandas\\core\\strings.py:1954: UserWarning: This pattern has match groups. To actually get the groups, use str.extract.\n",
      "  return func(self, *args, **kwargs)\n"
     ]
    }
   ],
   "source": [
    "invalid_codes = get_invalid_codes(df, CODE_PATTERN)\n",
    "file_name = '{0}{1}'.format(WRITE_DIR, INVALID_CODES_FILE_NAME)\n",
    "with open(file_name, 'w', encoding=\"utf-8\") as f:\n",
    "    for item in invalid_codes:\n",
    "        f.write(\"%s\\n\" % item)"
   ]
  },
  {
   "cell_type": "code",
   "execution_count": 25,
   "metadata": {},
   "outputs": [
    {
     "name": "stderr",
     "output_type": "stream",
     "text": [
      "C:\\ProgramData\\Anaconda3\\lib\\site-packages\\pandas\\core\\strings.py:1954: UserWarning: This pattern has match groups. To actually get the groups, use str.extract.\n",
      "  return func(self, *args, **kwargs)\n"
     ]
    },
    {
     "name": "stdout",
     "output_type": "stream",
     "text": [
      "Dataframe contains only valid codes!\n",
      "Dataframe contains only 3sign codes!\n"
     ]
    },
    {
     "data": {
      "text/html": [
       "<div>\n",
       "<style scoped>\n",
       "    .dataframe tbody tr th:only-of-type {\n",
       "        vertical-align: middle;\n",
       "    }\n",
       "\n",
       "    .dataframe tbody tr th {\n",
       "        vertical-align: top;\n",
       "    }\n",
       "\n",
       "    .dataframe thead th {\n",
       "        text-align: right;\n",
       "    }\n",
       "</style>\n",
       "<table border=\"1\" class=\"dataframe\">\n",
       "  <thead>\n",
       "    <tr style=\"text-align: right;\">\n",
       "      <th></th>\n",
       "      <th>ICD10</th>\n",
       "      <th>Text</th>\n",
       "    </tr>\n",
       "  </thead>\n",
       "  <tbody>\n",
       "    <tr>\n",
       "      <th>0</th>\n",
       "      <td>A00</td>\n",
       "      <td>Холера</td>\n",
       "    </tr>\n",
       "    <tr>\n",
       "      <th>1</th>\n",
       "      <td>A00</td>\n",
       "      <td>Холера, предизвикана от холерен вибрион 01, би...</td>\n",
       "    </tr>\n",
       "    <tr>\n",
       "      <th>2</th>\n",
       "      <td>A00</td>\n",
       "      <td>Холера, предизвикана от холерен вибрион 01, би...</td>\n",
       "    </tr>\n",
       "    <tr>\n",
       "      <th>3</th>\n",
       "      <td>A00</td>\n",
       "      <td>Холера, неуточнена</td>\n",
       "    </tr>\n",
       "    <tr>\n",
       "      <th>4</th>\n",
       "      <td>A01</td>\n",
       "      <td>Тиф и паратиф</td>\n",
       "    </tr>\n",
       "  </tbody>\n",
       "</table>\n",
       "</div>"
      ],
      "text/plain": [
       "  ICD10                                               Text\n",
       "0   A00                                             Холера\n",
       "1   A00  Холера, предизвикана от холерен вибрион 01, би...\n",
       "2   A00  Холера, предизвикана от холерен вибрион 01, би...\n",
       "3   A00                                 Холера, неуточнена\n",
       "4   A01                                      Тиф и паратиф"
      ]
     },
     "execution_count": 25,
     "metadata": {},
     "output_type": "execute_result"
    }
   ],
   "source": [
    "df = get_valid_df(df, CODE_PATTERN)\n",
    "if len(get_invalid_codes(df, CODE_PATTERN)) == 0:\n",
    "    print('Dataframe contains only valid codes!')\n",
    "if IS_CREATING_3SIGN_CODES:\n",
    "    df['ICD10'] = df['ICD10'].str[:3]\n",
    "    print('Dataframe contains only 3sign codes!')\n",
    "df.head()"
   ]
  },
  {
   "cell_type": "code",
   "execution_count": 26,
   "metadata": {},
   "outputs": [
    {
     "data": {
      "text/plain": [
       "(104227, 2)"
      ]
     },
     "execution_count": 26,
     "metadata": {},
     "output_type": "execute_result"
    }
   ],
   "source": [
    "df.shape"
   ]
  },
  {
   "cell_type": "code",
   "execution_count": 27,
   "metadata": {},
   "outputs": [
    {
     "data": {
      "text/plain": [
       "(103717, 2)"
      ]
     },
     "execution_count": 27,
     "metadata": {},
     "output_type": "execute_result"
    }
   ],
   "source": [
    "df.drop_duplicates(inplace = True)\n",
    "df.shape"
   ]
  },
  {
   "cell_type": "markdown",
   "metadata": {},
   "source": [
    "### Save Dataframe"
   ]
  },
  {
   "cell_type": "code",
   "execution_count": 28,
   "metadata": {
    "collapsed": true
   },
   "outputs": [],
   "source": [
    "file_name = '{0}{1}'.format(WRITE_DIR, RESULT_FILE_NAME)\n",
    "df.to_csv(file_name, sep=',', encoding='utf-8', header=True, index=False)"
   ]
  }
 ],
 "metadata": {
  "kernelspec": {
   "display_name": "Python 3",
   "language": "python",
   "name": "python3"
  },
  "language_info": {
   "codemirror_mode": {
    "name": "ipython",
    "version": 3
   },
   "file_extension": ".py",
   "mimetype": "text/x-python",
   "name": "python",
   "nbconvert_exporter": "python",
   "pygments_lexer": "ipython3",
   "version": "3.6.10"
  }
 },
 "nbformat": 4,
 "nbformat_minor": 2
}
