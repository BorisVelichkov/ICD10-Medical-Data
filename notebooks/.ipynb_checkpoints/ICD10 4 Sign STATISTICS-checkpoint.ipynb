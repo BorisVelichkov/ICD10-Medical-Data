{
 "cells": [
  {
   "cell_type": "markdown",
   "metadata": {},
   "source": [
    "# ICD10 4 Sign Datasets Unifier"
   ]
  },
  {
   "cell_type": "code",
   "execution_count": 1,
   "metadata": {
    "collapsed": true
   },
   "outputs": [],
   "source": [
    "import numpy as np\n",
    "import pandas as pd\n",
    "import re"
   ]
  },
  {
   "cell_type": "markdown",
   "metadata": {},
   "source": [
    "### Constants and Datasets Names"
   ]
  },
  {
   "cell_type": "code",
   "execution_count": 2,
   "metadata": {
    "collapsed": true
   },
   "outputs": [],
   "source": [
    "CODE_PATTERN = '^([A-Z][0-9]{2}(?:\\.[0-9]{1})?)$'\n",
    "\n",
    "READ_DIR = '../datasets/ICD10_Training_data_4sign/'\n",
    "WRITE_DIR = '../datasets/'\n",
    "\n",
    "ICD10_ALL_3SIGN_FILE_NAME = '../datasets/ICD10_all_3sign.csv'\n",
    "ICD10_BG_3SIGN_FILE_NAME = '../datasets/ICD10_Training_data_3sign/ICD10_bg_3sign.csv'\n",
    "\n",
    "RESULT_FILE_NAME = 'ICD10_all_4sign.csv'"
   ]
  },
  {
   "cell_type": "code",
   "execution_count": 3,
   "metadata": {
    "collapsed": true
   },
   "outputs": [],
   "source": [
    "datasets = {\n",
    "    \"icd10_bg\": \"ICD10_bg_4sign.csv\",\n",
    "    \"icd10_gs\": \"ICD10_golden standard_4sign.csv\",\n",
    "    \"icd10_ms\": \"ICD10-MSWord_4sign.csv\",\n",
    "    \"icd10_wd_bg\": \"Wikidata_ICD10_4sign_bg.csv\",\n",
    "    \"icd10_wd_lt\": \"Wikidata_ICD10_4sign_lat.csv\",\n",
    "    \"icd10_wd_trl\": \"Wikidata_ICD10_4sign_lat_transliterated.csv\"\n",
    "}"
   ]
  },
  {
   "cell_type": "markdown",
   "metadata": {},
   "source": [
    "### Refactor Code Methods"
   ]
  },
  {
   "cell_type": "code",
   "execution_count": 4,
   "metadata": {
    "code_folding": [
     1
    ],
    "collapsed": true
   },
   "outputs": [],
   "source": [
    "# http://homoglyphs.net/\n",
    "def replace_homoglyphs(s):\n",
    "    \"\"\"Replace Homoglyphs: Cyrillic Capital Letters to Latin Capital Letters!\"\"\"\n",
    "    s = s.replace('А', 'A')\n",
    "    s = s.replace('В', 'B')\n",
    "    s = s.replace('С', 'C')\n",
    "    s = s.replace('Е', 'E')\n",
    "    s = s.replace('Н', 'H')\n",
    "    s = s.replace('І', 'I')\n",
    "    s = s.replace('Ј', 'J')\n",
    "    s = s.replace('К', 'K')\n",
    "    s = s.replace('М', 'M')\n",
    "    s = s.replace('О', 'O')\n",
    "    s = s.replace('Р', 'P')\n",
    "    s = s.replace('Ѕ', 'S')\n",
    "    s = s.replace('Т', 'T')\n",
    "    s = s.replace('Ѵ', 'V')\n",
    "    s = s.replace('Х', 'X')\n",
    "    s = s.replace('У', 'Y')\n",
    "    s = s.replace('Ү', 'Y')\n",
    "    return s"
   ]
  },
  {
   "cell_type": "code",
   "execution_count": 5,
   "metadata": {
    "code_folding": [
     0
    ],
    "collapsed": true
   },
   "outputs": [],
   "source": [
    "def replace_omoglyphs(s):\n",
    "    s = s.replace('Б', 'B')\n",
    "    return s"
   ]
  },
  {
   "cell_type": "code",
   "execution_count": 6,
   "metadata": {
    "code_folding": [
     0
    ],
    "collapsed": true
   },
   "outputs": [],
   "source": [
    "def replace_comma_with_dot(code):\n",
    "    return code.replace(',', '.')"
   ]
  },
  {
   "cell_type": "code",
   "execution_count": 7,
   "metadata": {
    "code_folding": [
     0
    ],
    "collapsed": true
   },
   "outputs": [],
   "source": [
    "def remove_pre_text(code):\n",
    "    m = re.match(r'^([A-Za-zА-Яа-я]+\\s+)[A-Z][0-9]{2}\\.[0-9]$', code)\n",
    "    if m:\n",
    "        return code.replace(m.group(1), '')\n",
    "    return code"
   ]
  },
  {
   "cell_type": "code",
   "execution_count": 8,
   "metadata": {
    "code_folding": [
     0
    ],
    "collapsed": true
   },
   "outputs": [],
   "source": [
    "def remove_space(code):\n",
    "    return code.replace(' ', '')"
   ]
  },
  {
   "cell_type": "code",
   "execution_count": 9,
   "metadata": {
    "code_folding": [
     0
    ],
    "collapsed": true
   },
   "outputs": [],
   "source": [
    "def remove_plus_end(code):\n",
    "    m = re.match(r'^.*[^\\s](\\s*\\+)$', code)\n",
    "    if m:\n",
    "        return code.replace(m.group(1), '')\n",
    "    return code"
   ]
  },
  {
   "cell_type": "code",
   "execution_count": 10,
   "metadata": {
    "code_folding": [
     0
    ],
    "collapsed": true
   },
   "outputs": [],
   "source": [
    "def remove_star_end(code):\n",
    "    if re.match(r'^([A-Z][0-9]{2}\\*)$', code):\n",
    "        return code[0:3]\n",
    "    return code"
   ]
  },
  {
   "cell_type": "code",
   "execution_count": 11,
   "metadata": {
    "code_folding": [
     0
    ],
    "collapsed": true
   },
   "outputs": [],
   "source": [
    "def remove_dot_end(code):\n",
    "    if re.match(r'^([A-Z][0-9]{2}\\.)$', code):\n",
    "        return code[0:3]\n",
    "    return code"
   ]
  },
  {
   "cell_type": "code",
   "execution_count": 12,
   "metadata": {
    "code_folding": [
     0
    ],
    "collapsed": true
   },
   "outputs": [],
   "source": [
    "def remove_dot_dash_end(code):\n",
    "    if re.match(r'^([A-Z][0-9]{2}\\.-)$', code):\n",
    "        return code[0:3]\n",
    "    return code"
   ]
  },
  {
   "cell_type": "code",
   "execution_count": 15,
   "metadata": {
    "code_folding": [
     0
    ],
    "collapsed": true
   },
   "outputs": [],
   "source": [
    "def convert_no_dot_code_to_dot_code(code):\n",
    "    if re.match(r'^([A-Z][0-9]{2}[0-9]{1,2})$', code):\n",
    "        return code[:3] + '.' + code[3:]\n",
    "    return code"
   ]
  },
  {
   "cell_type": "code",
   "execution_count": 16,
   "metadata": {
    "code_folding": [
     0
    ],
    "collapsed": true
   },
   "outputs": [],
   "source": [
    "def remove_dot_letter_end(code):\n",
    "    if re.match(r'^([A-Z][0-9]{2}\\.[A-Z])$', code):\n",
    "        return code[0:3]\n",
    "    return code"
   ]
  },
  {
   "cell_type": "code",
   "execution_count": 17,
   "metadata": {
    "code_folding": [
     0
    ],
    "collapsed": true
   },
   "outputs": [],
   "source": [
    "def convert_5sign_to_4sign(code):\n",
    "    if re.match(r'^([A-Z][0-9]{2}\\.[0-9]{2})$', code):\n",
    "        return code[0:5]\n",
    "    return code"
   ]
  },
  {
   "cell_type": "code",
   "execution_count": 18,
   "metadata": {
    "code_folding": [
     0
    ],
    "collapsed": true
   },
   "outputs": [],
   "source": [
    "def refactor_code(code):\n",
    "    code = code.upper()\n",
    "    code = replace_homoglyphs(code)\n",
    "    code = replace_omoglyphs(code)\n",
    "    code = replace_comma_with_dot(code)\n",
    "    code = remove_pre_text(code)\n",
    "    code = remove_space(code)\n",
    "    code = remove_plus_end(code)\n",
    "    code = remove_star_end(code)\n",
    "    code = remove_dot_end(code)\n",
    "    code = remove_dot_dash_end(code)\n",
    "    code = remove_dot_letter_end(code)\n",
    "    code = convert_no_dot_code_to_dot_code(code)\n",
    "    code = convert_5sign_to_4sign(code)\n",
    "    return code"
   ]
  },
  {
   "cell_type": "code",
   "execution_count": 19,
   "metadata": {
    "code_folding": [
     0
    ],
    "collapsed": true
   },
   "outputs": [],
   "source": [
    "def refactor_codes(df):\n",
    "    df['ICD10'] = df['ICD10'].apply(lambda x: refactor_code(x))"
   ]
  },
  {
   "cell_type": "code",
   "execution_count": 20,
   "metadata": {
    "code_folding": [
     0
    ],
    "collapsed": true
   },
   "outputs": [],
   "source": [
    "def get_invalid_codes(df, pattern):\n",
    "    return list(df[~df['ICD10'].str.contains(pattern)]['ICD10'].unique())"
   ]
  },
  {
   "cell_type": "code",
   "execution_count": 21,
   "metadata": {
    "code_folding": [
     0
    ],
    "collapsed": true
   },
   "outputs": [],
   "source": [
    "def get_valid_df(df, pattern):\n",
    "    return df[df['ICD10'].str.contains(pattern)]"
   ]
  },
  {
   "cell_type": "code",
   "execution_count": 29,
   "metadata": {
    "collapsed": true
   },
   "outputs": [],
   "source": [
    "def print_stat(df, only_main_stats=True):\n",
    "    df = df.copy()\n",
    "    \n",
    "    file_name = '{0}{1}'.format(READ_DIR, datasets['icd10_bg'])\n",
    "    df_icd10_bg = pd.read_csv(file_name, header=None, names=['ICD10', 'Text'])\n",
    "\n",
    "    num_inv = len(get_invalid_codes(df, CODE_PATTERN))\n",
    "    \n",
    "    refactor_codes(df)\n",
    "    num_inv_not_fixable = len(get_invalid_codes(df, CODE_PATTERN))\n",
    "    \n",
    "    num_inst = len(df)\n",
    "    \n",
    "    df = get_valid_df(df, CODE_PATTERN)\n",
    "    num_valid_inst = len(df)\n",
    "    \n",
    "    df.drop_duplicates(inplace = True)\n",
    "    num_inst_no_dupl = len(df)\n",
    "    \n",
    "    num_unique_codes = len(df['ICD10'].unique())\n",
    "    \n",
    "    df_icd10_bg_3sign = pd.read_csv(ICD10_BG_3SIGN_FILE_NAME, header=None, names=['ICD10', 'Text'])\n",
    "    df_valid_codes = pd.concat([df_icd10_bg, df_icd10_bg_3sign], ignore_index=True)\n",
    "    df = df[df['ICD10'].isin(df_valid_codes['ICD10'])]\n",
    "    num_valid = len(df)\n",
    "    \n",
    "    num_unique_valid_codes = len(df['ICD10'].unique())\n",
    "    \n",
    "    if only_main_stats:\n",
    "        print(num_inst_no_dupl, num_valid, num_unique_valid_codes)\n",
    "    else:\n",
    "        print(num_inv, num_inv_not_fixable, num_inst, num_valid_inst, num_inst_no_dupl, num_unique_codes, num_valid, num_unique_valid_codes)"
   ]
  },
  {
   "cell_type": "markdown",
   "metadata": {},
   "source": [
    "### Read Datasets"
   ]
  },
  {
   "cell_type": "code",
   "execution_count": 23,
   "metadata": {},
   "outputs": [
    {
     "data": {
      "text/html": [
       "<div>\n",
       "<style scoped>\n",
       "    .dataframe tbody tr th:only-of-type {\n",
       "        vertical-align: middle;\n",
       "    }\n",
       "\n",
       "    .dataframe tbody tr th {\n",
       "        vertical-align: top;\n",
       "    }\n",
       "\n",
       "    .dataframe thead th {\n",
       "        text-align: right;\n",
       "    }\n",
       "</style>\n",
       "<table border=\"1\" class=\"dataframe\">\n",
       "  <thead>\n",
       "    <tr style=\"text-align: right;\">\n",
       "      <th></th>\n",
       "      <th>ICD10</th>\n",
       "      <th>Text</th>\n",
       "    </tr>\n",
       "  </thead>\n",
       "  <tbody>\n",
       "    <tr>\n",
       "      <th>0</th>\n",
       "      <td>A00</td>\n",
       "      <td>Холера</td>\n",
       "    </tr>\n",
       "    <tr>\n",
       "      <th>1</th>\n",
       "      <td>A00.0</td>\n",
       "      <td>Холера, предизвикана от холерен вибрион 01, би...</td>\n",
       "    </tr>\n",
       "    <tr>\n",
       "      <th>2</th>\n",
       "      <td>A00.1</td>\n",
       "      <td>Холера, предизвикана от холерен вибрион 01, би...</td>\n",
       "    </tr>\n",
       "    <tr>\n",
       "      <th>3</th>\n",
       "      <td>A00.9</td>\n",
       "      <td>Холера, неуточнена</td>\n",
       "    </tr>\n",
       "    <tr>\n",
       "      <th>4</th>\n",
       "      <td>A01</td>\n",
       "      <td>Тиф и паратиф</td>\n",
       "    </tr>\n",
       "  </tbody>\n",
       "</table>\n",
       "</div>"
      ],
      "text/plain": [
       "   ICD10                                               Text\n",
       "0    A00                                             Холера\n",
       "1  A00.0  Холера, предизвикана от холерен вибрион 01, би...\n",
       "2  A00.1  Холера, предизвикана от холерен вибрион 01, би...\n",
       "3  A00.9                                 Холера, неуточнена\n",
       "4    A01                                      Тиф и паратиф"
      ]
     },
     "execution_count": 23,
     "metadata": {},
     "output_type": "execute_result"
    }
   ],
   "source": [
    "file_name = '{0}{1}'.format(READ_DIR, datasets['icd10_bg'])\n",
    "df_icd10_bg = pd.read_csv(file_name, header=None, names=['ICD10', 'Text'])\n",
    "df_icd10_bg.head()"
   ]
  },
  {
   "cell_type": "code",
   "execution_count": 24,
   "metadata": {},
   "outputs": [
    {
     "name": "stderr",
     "output_type": "stream",
     "text": [
      "C:\\ProgramData\\Anaconda3\\lib\\site-packages\\pandas\\core\\strings.py:1954: UserWarning: This pattern has match groups. To actually get the groups, use str.extract.\n",
      "  return func(self, *args, **kwargs)\n"
     ]
    },
    {
     "name": "stdout",
     "output_type": "stream",
     "text": [
      "93 0 10971 10971 10971 10971 10971 10971\n"
     ]
    }
   ],
   "source": [
    "print_stat(df_icd10_bg)"
   ]
  },
  {
   "cell_type": "code",
   "execution_count": 26,
   "metadata": {},
   "outputs": [
    {
     "data": {
      "text/html": [
       "<div>\n",
       "<style scoped>\n",
       "    .dataframe tbody tr th:only-of-type {\n",
       "        vertical-align: middle;\n",
       "    }\n",
       "\n",
       "    .dataframe tbody tr th {\n",
       "        vertical-align: top;\n",
       "    }\n",
       "\n",
       "    .dataframe thead th {\n",
       "        text-align: right;\n",
       "    }\n",
       "</style>\n",
       "<table border=\"1\" class=\"dataframe\">\n",
       "  <thead>\n",
       "    <tr style=\"text-align: right;\">\n",
       "      <th></th>\n",
       "      <th>ICD10</th>\n",
       "      <th>Text</th>\n",
       "    </tr>\n",
       "  </thead>\n",
       "  <tbody>\n",
       "    <tr>\n",
       "      <th>0</th>\n",
       "      <td>A08.1</td>\n",
       "      <td>гастроентеропатия</td>\n",
       "    </tr>\n",
       "    <tr>\n",
       "      <th>1</th>\n",
       "      <td>A17.1</td>\n",
       "      <td>туберкулом</td>\n",
       "    </tr>\n",
       "    <tr>\n",
       "      <th>2</th>\n",
       "      <td>A26.0</td>\n",
       "      <td>еризипел</td>\n",
       "    </tr>\n",
       "    <tr>\n",
       "      <th>3</th>\n",
       "      <td>A66.8</td>\n",
       "      <td>латентна левостранна хемипареза</td>\n",
       "    </tr>\n",
       "    <tr>\n",
       "      <th>4</th>\n",
       "      <td>A66.8</td>\n",
       "      <td>десностранна латентна хемипареза</td>\n",
       "    </tr>\n",
       "  </tbody>\n",
       "</table>\n",
       "</div>"
      ],
      "text/plain": [
       "   ICD10                              Text\n",
       "0  A08.1                 гастроентеропатия\n",
       "1  A17.1                        туберкулом\n",
       "2  A26.0                          еризипел\n",
       "3  A66.8   латентна левостранна хемипареза\n",
       "4  A66.8  десностранна латентна хемипареза"
      ]
     },
     "execution_count": 26,
     "metadata": {},
     "output_type": "execute_result"
    }
   ],
   "source": [
    "file_name = '{0}{1}'.format(READ_DIR, datasets['icd10_gs'])\n",
    "df_icd10_gs = pd.read_csv(file_name, header=None, names=['ICD10', 'Text'])\n",
    "df_icd10_gs.head()"
   ]
  },
  {
   "cell_type": "code",
   "execution_count": 24,
   "metadata": {},
   "outputs": [
    {
     "name": "stderr",
     "output_type": "stream",
     "text": [
      "C:\\ProgramData\\Anaconda3\\lib\\site-packages\\pandas\\core\\strings.py:1954: UserWarning: This pattern has match groups. To actually get the groups, use str.extract.\n",
      "  return func(self, *args, **kwargs)\n"
     ]
    },
    {
     "name": "stdout",
     "output_type": "stream",
     "text": [
      "14 0 4621 4621 4571 440 4493 431\n"
     ]
    }
   ],
   "source": [
    "print_stat(df_icd10_gs)"
   ]
  },
  {
   "cell_type": "code",
   "execution_count": 25,
   "metadata": {},
   "outputs": [
    {
     "data": {
      "text/html": [
       "<div>\n",
       "<style scoped>\n",
       "    .dataframe tbody tr th:only-of-type {\n",
       "        vertical-align: middle;\n",
       "    }\n",
       "\n",
       "    .dataframe tbody tr th {\n",
       "        vertical-align: top;\n",
       "    }\n",
       "\n",
       "    .dataframe thead th {\n",
       "        text-align: right;\n",
       "    }\n",
       "</style>\n",
       "<table border=\"1\" class=\"dataframe\">\n",
       "  <thead>\n",
       "    <tr style=\"text-align: right;\">\n",
       "      <th></th>\n",
       "      <th>ICD10</th>\n",
       "      <th>Text</th>\n",
       "    </tr>\n",
       "  </thead>\n",
       "  <tbody>\n",
       "    <tr>\n",
       "      <th>0</th>\n",
       "      <td>F44.4</td>\n",
       "      <td>Абазия астазия хистерична</td>\n",
       "    </tr>\n",
       "    <tr>\n",
       "      <th>1</th>\n",
       "      <td>Q27.8</td>\n",
       "      <td>Аберантен вроден артерия периферна ,</td>\n",
       "    </tr>\n",
       "    <tr>\n",
       "      <th>2</th>\n",
       "      <td>Q27.8</td>\n",
       "      <td>Аберантен вроден вена периферна ,</td>\n",
       "    </tr>\n",
       "    <tr>\n",
       "      <th>3</th>\n",
       "      <td>Q83.8</td>\n",
       "      <td>Аберантен вроден гърда</td>\n",
       "    </tr>\n",
       "    <tr>\n",
       "      <th>4</th>\n",
       "      <td>Q89.2</td>\n",
       "      <td>Аберантен вроден ендокринна жлеза,</td>\n",
       "    </tr>\n",
       "  </tbody>\n",
       "</table>\n",
       "</div>"
      ],
      "text/plain": [
       "   ICD10                                  Text\n",
       "0  F44.4            Абазия астазия хистерична \n",
       "1  Q27.8  Аберантен вроден артерия периферна ,\n",
       "2  Q27.8     Аберантен вроден вена периферна ,\n",
       "3  Q83.8                Аберантен вроден гърда\n",
       "4  Q89.2    Аберантен вроден ендокринна жлеза,"
      ]
     },
     "execution_count": 25,
     "metadata": {},
     "output_type": "execute_result"
    }
   ],
   "source": [
    "file_name = '{0}{1}'.format(READ_DIR, datasets['icd10_ms'])\n",
    "df_icd10_ms = pd.read_csv(file_name)\n",
    "df_icd10_ms.head()"
   ]
  },
  {
   "cell_type": "code",
   "execution_count": 26,
   "metadata": {},
   "outputs": [
    {
     "name": "stderr",
     "output_type": "stream",
     "text": [
      "C:\\ProgramData\\Anaconda3\\lib\\site-packages\\pandas\\core\\strings.py:1954: UserWarning: This pattern has match groups. To actually get the groups, use str.extract.\n",
      "  return func(self, *args, **kwargs)\n"
     ]
    },
    {
     "name": "stdout",
     "output_type": "stream",
     "text": [
      "440 0 44987 44987 44984 8330 44010 8043\n"
     ]
    }
   ],
   "source": [
    "print_stat(df_icd10_ms)"
   ]
  },
  {
   "cell_type": "code",
   "execution_count": 27,
   "metadata": {},
   "outputs": [
    {
     "data": {
      "text/html": [
       "<div>\n",
       "<style scoped>\n",
       "    .dataframe tbody tr th:only-of-type {\n",
       "        vertical-align: middle;\n",
       "    }\n",
       "\n",
       "    .dataframe tbody tr th {\n",
       "        vertical-align: top;\n",
       "    }\n",
       "\n",
       "    .dataframe thead th {\n",
       "        text-align: right;\n",
       "    }\n",
       "</style>\n",
       "<table border=\"1\" class=\"dataframe\">\n",
       "  <thead>\n",
       "    <tr style=\"text-align: right;\">\n",
       "      <th></th>\n",
       "      <th>ICD10</th>\n",
       "      <th>Text</th>\n",
       "    </tr>\n",
       "  </thead>\n",
       "  <tbody>\n",
       "    <tr>\n",
       "      <th>0</th>\n",
       "      <td>B40.9</td>\n",
       "      <td>Бластомикоза и болест на Чикаго</td>\n",
       "    </tr>\n",
       "    <tr>\n",
       "      <th>1</th>\n",
       "      <td>B40</td>\n",
       "      <td>Бластомикоза и болест на Чикаго</td>\n",
       "    </tr>\n",
       "    <tr>\n",
       "      <th>2</th>\n",
       "      <td>B40.9</td>\n",
       "      <td>Бластомикоза и болест на Гилкристите</td>\n",
       "    </tr>\n",
       "    <tr>\n",
       "      <th>3</th>\n",
       "      <td>B40</td>\n",
       "      <td>Бластомикоза и болест на Гилкристите</td>\n",
       "    </tr>\n",
       "    <tr>\n",
       "      <th>4</th>\n",
       "      <td>B40.9</td>\n",
       "      <td>Бластомикоза и северноамериканска</td>\n",
       "    </tr>\n",
       "  </tbody>\n",
       "</table>\n",
       "</div>"
      ],
      "text/plain": [
       "   ICD10                                   Text\n",
       "0  B40.9       Бластомикоза и болест на Чикаго \n",
       "1    B40       Бластомикоза и болест на Чикаго \n",
       "2  B40.9  Бластомикоза и болест на Гилкристите \n",
       "3    B40  Бластомикоза и болест на Гилкристите \n",
       "4  B40.9     Бластомикоза и северноамериканска "
      ]
     },
     "execution_count": 27,
     "metadata": {},
     "output_type": "execute_result"
    }
   ],
   "source": [
    "file_name = '{0}{1}'.format(READ_DIR, datasets['icd10_wd_bg'])\n",
    "df_icd10_wd_bg = pd.read_csv(file_name, header=None, names=['Text', 'ICD10'])\n",
    "df_icd10_wd_bg = df_icd10_wd_bg[['ICD10', 'Text']]\n",
    "df_icd10_wd_bg.head()"
   ]
  },
  {
   "cell_type": "code",
   "execution_count": 28,
   "metadata": {},
   "outputs": [
    {
     "name": "stderr",
     "output_type": "stream",
     "text": [
      "C:\\ProgramData\\Anaconda3\\lib\\site-packages\\pandas\\core\\strings.py:1954: UserWarning: This pattern has match groups. To actually get the groups, use str.extract.\n",
      "  return func(self, *args, **kwargs)\n"
     ]
    },
    {
     "name": "stdout",
     "output_type": "stream",
     "text": [
      "74 6 50445 50358 50349 3471 48963 3292\n"
     ]
    }
   ],
   "source": [
    "print_stat(df_icd10_wd_bg)"
   ]
  },
  {
   "cell_type": "code",
   "execution_count": 29,
   "metadata": {},
   "outputs": [
    {
     "data": {
      "text/html": [
       "<div>\n",
       "<style scoped>\n",
       "    .dataframe tbody tr th:only-of-type {\n",
       "        vertical-align: middle;\n",
       "    }\n",
       "\n",
       "    .dataframe tbody tr th {\n",
       "        vertical-align: top;\n",
       "    }\n",
       "\n",
       "    .dataframe thead th {\n",
       "        text-align: right;\n",
       "    }\n",
       "</style>\n",
       "<table border=\"1\" class=\"dataframe\">\n",
       "  <thead>\n",
       "    <tr style=\"text-align: right;\">\n",
       "      <th></th>\n",
       "      <th>ICD10</th>\n",
       "      <th>Text</th>\n",
       "    </tr>\n",
       "  </thead>\n",
       "  <tbody>\n",
       "    <tr>\n",
       "      <th>0</th>\n",
       "      <td>B40.9</td>\n",
       "      <td>Et Chicago morbo BLASTOMYCOSIS</td>\n",
       "    </tr>\n",
       "    <tr>\n",
       "      <th>1</th>\n",
       "      <td>B40</td>\n",
       "      <td>Et Chicago morbo BLASTOMYCOSIS</td>\n",
       "    </tr>\n",
       "    <tr>\n",
       "      <th>2</th>\n",
       "      <td>B40.9</td>\n",
       "      <td>Et BLASTOMYCOSIS morbo Gilchrists</td>\n",
       "    </tr>\n",
       "    <tr>\n",
       "      <th>3</th>\n",
       "      <td>B40</td>\n",
       "      <td>Et BLASTOMYCOSIS morbo Gilchrists</td>\n",
       "    </tr>\n",
       "    <tr>\n",
       "      <th>4</th>\n",
       "      <td>B40.9</td>\n",
       "      <td>Et North American BLASTOMYCOSIS</td>\n",
       "    </tr>\n",
       "  </tbody>\n",
       "</table>\n",
       "</div>"
      ],
      "text/plain": [
       "   ICD10                                Text\n",
       "0  B40.9     Et Chicago morbo BLASTOMYCOSIS \n",
       "1    B40     Et Chicago morbo BLASTOMYCOSIS \n",
       "2  B40.9  Et BLASTOMYCOSIS morbo Gilchrists \n",
       "3    B40  Et BLASTOMYCOSIS morbo Gilchrists \n",
       "4  B40.9    Et North American BLASTOMYCOSIS "
      ]
     },
     "execution_count": 29,
     "metadata": {},
     "output_type": "execute_result"
    }
   ],
   "source": [
    "file_name = '{0}{1}'.format(READ_DIR, datasets['icd10_wd_lt'])\n",
    "df_icd10_wd_lt = pd.read_csv(file_name, header=None, names=['Text', 'ICD10'])\n",
    "df_icd10_wd_lt = df_icd10_wd_lt[['ICD10', 'Text']]\n",
    "df_icd10_wd_lt.head()"
   ]
  },
  {
   "cell_type": "code",
   "execution_count": 30,
   "metadata": {},
   "outputs": [
    {
     "name": "stderr",
     "output_type": "stream",
     "text": [
      "C:\\ProgramData\\Anaconda3\\lib\\site-packages\\pandas\\core\\strings.py:1954: UserWarning: This pattern has match groups. To actually get the groups, use str.extract.\n",
      "  return func(self, *args, **kwargs)\n"
     ]
    },
    {
     "name": "stdout",
     "output_type": "stream",
     "text": [
      "63 7 52007 51972 51962 3468 50536 3289\n"
     ]
    }
   ],
   "source": [
    "print_stat(df_icd10_wd_lt)"
   ]
  },
  {
   "cell_type": "code",
   "execution_count": 31,
   "metadata": {
    "collapsed": true
   },
   "outputs": [],
   "source": [
    "file_name = '{0}{1}'.format(READ_DIR, datasets['icd10_wd_trl'])"
   ]
  },
  {
   "cell_type": "code",
   "execution_count": 32,
   "metadata": {},
   "outputs": [
    {
     "data": {
      "text/html": [
       "<div>\n",
       "<style scoped>\n",
       "    .dataframe tbody tr th:only-of-type {\n",
       "        vertical-align: middle;\n",
       "    }\n",
       "\n",
       "    .dataframe tbody tr th {\n",
       "        vertical-align: top;\n",
       "    }\n",
       "\n",
       "    .dataframe thead th {\n",
       "        text-align: right;\n",
       "    }\n",
       "</style>\n",
       "<table border=\"1\" class=\"dataframe\">\n",
       "  <thead>\n",
       "    <tr style=\"text-align: right;\">\n",
       "      <th></th>\n",
       "      <th>ICD10</th>\n",
       "      <th>Text</th>\n",
       "    </tr>\n",
       "  </thead>\n",
       "  <tbody>\n",
       "    <tr>\n",
       "      <th>0</th>\n",
       "      <td>B40.9</td>\n",
       "      <td>﻿ет хикаго морбо бластомикозис</td>\n",
       "    </tr>\n",
       "    <tr>\n",
       "      <th>1</th>\n",
       "      <td>B40</td>\n",
       "      <td>ет хикаго морбо бластомикозис</td>\n",
       "    </tr>\n",
       "    <tr>\n",
       "      <th>2</th>\n",
       "      <td>B40.9</td>\n",
       "      <td>ет бластомикозис морбо гилхристс</td>\n",
       "    </tr>\n",
       "    <tr>\n",
       "      <th>3</th>\n",
       "      <td>B40</td>\n",
       "      <td>ет бластомикозис морбо гилхристс</td>\n",
       "    </tr>\n",
       "    <tr>\n",
       "      <th>4</th>\n",
       "      <td>B40.9</td>\n",
       "      <td>ет норт американ бластомикозис</td>\n",
       "    </tr>\n",
       "  </tbody>\n",
       "</table>\n",
       "</div>"
      ],
      "text/plain": [
       "   ICD10                               Text\n",
       "0  B40.9    ﻿ет хикаго морбо бластомикозис \n",
       "1    B40     ет хикаго морбо бластомикозис \n",
       "2  B40.9  ет бластомикозис морбо гилхристс \n",
       "3    B40  ет бластомикозис морбо гилхристс \n",
       "4  B40.9    ет норт американ бластомикозис "
      ]
     },
     "execution_count": 32,
     "metadata": {},
     "output_type": "execute_result"
    }
   ],
   "source": [
    "df_icd10_wd_trl_bg = pd.read_csv(file_name, usecols=[1,2], header=None, names=['ICD10', 'Text'])\n",
    "df_icd10_wd_trl_bg.head()"
   ]
  },
  {
   "cell_type": "code",
   "execution_count": 33,
   "metadata": {},
   "outputs": [
    {
     "name": "stderr",
     "output_type": "stream",
     "text": [
      "C:\\ProgramData\\Anaconda3\\lib\\site-packages\\pandas\\core\\strings.py:1954: UserWarning: This pattern has match groups. To actually get the groups, use str.extract.\n",
      "  return func(self, *args, **kwargs)\n"
     ]
    },
    {
     "name": "stdout",
     "output_type": "stream",
     "text": [
      "63 7 52007 51972 51853 3468 50428 3289\n"
     ]
    }
   ],
   "source": [
    "print_stat(df_icd10_wd_trl_bg)"
   ]
  },
  {
   "cell_type": "code",
   "execution_count": 34,
   "metadata": {},
   "outputs": [
    {
     "data": {
      "text/html": [
       "<div>\n",
       "<style scoped>\n",
       "    .dataframe tbody tr th:only-of-type {\n",
       "        vertical-align: middle;\n",
       "    }\n",
       "\n",
       "    .dataframe tbody tr th {\n",
       "        vertical-align: top;\n",
       "    }\n",
       "\n",
       "    .dataframe thead th {\n",
       "        text-align: right;\n",
       "    }\n",
       "</style>\n",
       "<table border=\"1\" class=\"dataframe\">\n",
       "  <thead>\n",
       "    <tr style=\"text-align: right;\">\n",
       "      <th></th>\n",
       "      <th>ICD10</th>\n",
       "      <th>Text</th>\n",
       "    </tr>\n",
       "  </thead>\n",
       "  <tbody>\n",
       "    <tr>\n",
       "      <th>0</th>\n",
       "      <td>B40.9</td>\n",
       "      <td>Et Chicago morbo BLASTOMYCOSIS</td>\n",
       "    </tr>\n",
       "    <tr>\n",
       "      <th>1</th>\n",
       "      <td>B40</td>\n",
       "      <td>Et Chicago morbo BLASTOMYCOSIS</td>\n",
       "    </tr>\n",
       "    <tr>\n",
       "      <th>2</th>\n",
       "      <td>B40.9</td>\n",
       "      <td>Et BLASTOMYCOSIS morbo Gilchrists</td>\n",
       "    </tr>\n",
       "    <tr>\n",
       "      <th>3</th>\n",
       "      <td>B40</td>\n",
       "      <td>Et BLASTOMYCOSIS morbo Gilchrists</td>\n",
       "    </tr>\n",
       "    <tr>\n",
       "      <th>4</th>\n",
       "      <td>B40.9</td>\n",
       "      <td>Et North American BLASTOMYCOSIS</td>\n",
       "    </tr>\n",
       "  </tbody>\n",
       "</table>\n",
       "</div>"
      ],
      "text/plain": [
       "   ICD10                                Text\n",
       "0  B40.9     Et Chicago morbo BLASTOMYCOSIS \n",
       "1    B40     Et Chicago morbo BLASTOMYCOSIS \n",
       "2  B40.9  Et BLASTOMYCOSIS morbo Gilchrists \n",
       "3    B40  Et BLASTOMYCOSIS morbo Gilchrists \n",
       "4  B40.9    Et North American BLASTOMYCOSIS "
      ]
     },
     "execution_count": 34,
     "metadata": {},
     "output_type": "execute_result"
    }
   ],
   "source": [
    "df_icd10_wd_trl_lt = pd.read_csv(file_name, usecols=[0,1], header=None, names=['Text', 'ICD10'])\n",
    "df_icd10_wd_trl_lt = df_icd10_wd_trl_lt[['ICD10', 'Text']]\n",
    "df_icd10_wd_trl_lt.head()"
   ]
  },
  {
   "cell_type": "code",
   "execution_count": 35,
   "metadata": {},
   "outputs": [
    {
     "name": "stderr",
     "output_type": "stream",
     "text": [
      "C:\\ProgramData\\Anaconda3\\lib\\site-packages\\pandas\\core\\strings.py:1954: UserWarning: This pattern has match groups. To actually get the groups, use str.extract.\n",
      "  return func(self, *args, **kwargs)\n"
     ]
    },
    {
     "name": "stdout",
     "output_type": "stream",
     "text": [
      "63 7 52007 51972 51962 3468 50536 3289\n"
     ]
    }
   ],
   "source": [
    "print_stat(df_icd10_wd_trl_lt)"
   ]
  },
  {
   "cell_type": "markdown",
   "metadata": {},
   "source": [
    "### Create and Refactor Dataframe"
   ]
  },
  {
   "cell_type": "markdown",
   "metadata": {},
   "source": [
    "___Create Dataframe___"
   ]
  },
  {
   "cell_type": "code",
   "execution_count": 80,
   "metadata": {
    "collapsed": true
   },
   "outputs": [],
   "source": [
    "dfs = [df_icd10_bg, df_icd10_gs, df_icd10_ms, df_icd10_wd_bg, df_icd10_wd_lt, df_icd10_wd_trl_bg, df_icd10_wd_trl_lt]"
   ]
  },
  {
   "cell_type": "code",
   "execution_count": 81,
   "metadata": {},
   "outputs": [
    {
     "data": {
      "text/html": [
       "<div>\n",
       "<style scoped>\n",
       "    .dataframe tbody tr th:only-of-type {\n",
       "        vertical-align: middle;\n",
       "    }\n",
       "\n",
       "    .dataframe tbody tr th {\n",
       "        vertical-align: top;\n",
       "    }\n",
       "\n",
       "    .dataframe thead th {\n",
       "        text-align: right;\n",
       "    }\n",
       "</style>\n",
       "<table border=\"1\" class=\"dataframe\">\n",
       "  <thead>\n",
       "    <tr style=\"text-align: right;\">\n",
       "      <th></th>\n",
       "      <th>ICD10</th>\n",
       "      <th>Text</th>\n",
       "    </tr>\n",
       "  </thead>\n",
       "  <tbody>\n",
       "    <tr>\n",
       "      <th>0</th>\n",
       "      <td>A00</td>\n",
       "      <td>Холера</td>\n",
       "    </tr>\n",
       "    <tr>\n",
       "      <th>1</th>\n",
       "      <td>A00.0</td>\n",
       "      <td>Холера, предизвикана от холерен вибрион 01, би...</td>\n",
       "    </tr>\n",
       "    <tr>\n",
       "      <th>2</th>\n",
       "      <td>A00.1</td>\n",
       "      <td>Холера, предизвикана от холерен вибрион 01, би...</td>\n",
       "    </tr>\n",
       "    <tr>\n",
       "      <th>3</th>\n",
       "      <td>A00.9</td>\n",
       "      <td>Холера, неуточнена</td>\n",
       "    </tr>\n",
       "    <tr>\n",
       "      <th>4</th>\n",
       "      <td>A01</td>\n",
       "      <td>Тиф и паратиф</td>\n",
       "    </tr>\n",
       "  </tbody>\n",
       "</table>\n",
       "</div>"
      ],
      "text/plain": [
       "   ICD10                                               Text\n",
       "0    A00                                             Холера\n",
       "1  A00.0  Холера, предизвикана от холерен вибрион 01, би...\n",
       "2  A00.1  Холера, предизвикана от холерен вибрион 01, би...\n",
       "3  A00.9                                 Холера, неуточнена\n",
       "4    A01                                      Тиф и паратиф"
      ]
     },
     "execution_count": 81,
     "metadata": {},
     "output_type": "execute_result"
    }
   ],
   "source": [
    "df = pd.concat(dfs, ignore_index=True)\n",
    "df.head()"
   ]
  },
  {
   "cell_type": "code",
   "execution_count": 84,
   "metadata": {},
   "outputs": [
    {
     "name": "stderr",
     "output_type": "stream",
     "text": [
      "C:\\ProgramData\\Anaconda3\\lib\\site-packages\\pandas\\core\\strings.py:1954: UserWarning: This pattern has match groups. To actually get the groups, use str.extract.\n",
      "  return func(self, *args, **kwargs)\n"
     ]
    },
    {
     "data": {
      "text/plain": [
       "['Ø14', 'Г-20', 'ICD10', 'D3A.8', 'T508X', 'G3L8', 'LXXXIVF', '0', 'ALXXXIII.']"
      ]
     },
     "execution_count": 84,
     "metadata": {},
     "output_type": "execute_result"
    }
   ],
   "source": [
    "refactor_codes(df)\n",
    "get_invalid_codes(df, CODE_PATTERN)"
   ]
  },
  {
   "cell_type": "code",
   "execution_count": 59,
   "metadata": {},
   "outputs": [
    {
     "name": "stderr",
     "output_type": "stream",
     "text": [
      "C:\\ProgramData\\Anaconda3\\lib\\site-packages\\pandas\\core\\strings.py:1954: UserWarning: This pattern has match groups. To actually get the groups, use str.extract.\n",
      "  return func(self, *args, **kwargs)\n"
     ]
    },
    {
     "name": "stdout",
     "output_type": "stream",
     "text": [
      "640 9 267045 266853 210379 11406 205276 10971\n"
     ]
    }
   ],
   "source": [
    "print_stat(df)"
   ]
  },
  {
   "cell_type": "code",
   "execution_count": 60,
   "metadata": {},
   "outputs": [
    {
     "data": {
      "text/plain": [
       "(267045, 2)"
      ]
     },
     "execution_count": 60,
     "metadata": {},
     "output_type": "execute_result"
    }
   ],
   "source": [
    "df.shape"
   ]
  },
  {
   "cell_type": "code",
   "execution_count": 61,
   "metadata": {},
   "outputs": [
    {
     "name": "stderr",
     "output_type": "stream",
     "text": [
      "C:\\ProgramData\\Anaconda3\\lib\\site-packages\\pandas\\core\\strings.py:1954: UserWarning: This pattern has match groups. To actually get the groups, use str.extract.\n",
      "  return func(self, *args, **kwargs)\n"
     ]
    },
    {
     "name": "stdout",
     "output_type": "stream",
     "text": [
      "640 9 456299 456107 383042 11406 377939 10971\n"
     ]
    }
   ],
   "source": [
    "df2 = [df, pd.read_csv(ICD10_ALL_3SIGN_FILE_NAME)]\n",
    "df2 = pd.concat(df2, ignore_index=True)\n",
    "print_stat(df2)"
   ]
  },
  {
   "cell_type": "markdown",
   "metadata": {},
   "source": [
    "___Refactor Dataframe___"
   ]
  },
  {
   "cell_type": "code",
   "execution_count": 62,
   "metadata": {
    "collapsed": true
   },
   "outputs": [],
   "source": [
    "refactor_codes(df)"
   ]
  },
  {
   "cell_type": "code",
   "execution_count": 63,
   "metadata": {},
   "outputs": [
    {
     "name": "stderr",
     "output_type": "stream",
     "text": [
      "C:\\ProgramData\\Anaconda3\\lib\\site-packages\\pandas\\core\\strings.py:1954: UserWarning: This pattern has match groups. To actually get the groups, use str.extract.\n",
      "  return func(self, *args, **kwargs)\n"
     ]
    },
    {
     "name": "stdout",
     "output_type": "stream",
     "text": [
      "Dataframe contains only valid codes!\n"
     ]
    },
    {
     "data": {
      "text/html": [
       "<div>\n",
       "<style scoped>\n",
       "    .dataframe tbody tr th:only-of-type {\n",
       "        vertical-align: middle;\n",
       "    }\n",
       "\n",
       "    .dataframe tbody tr th {\n",
       "        vertical-align: top;\n",
       "    }\n",
       "\n",
       "    .dataframe thead th {\n",
       "        text-align: right;\n",
       "    }\n",
       "</style>\n",
       "<table border=\"1\" class=\"dataframe\">\n",
       "  <thead>\n",
       "    <tr style=\"text-align: right;\">\n",
       "      <th></th>\n",
       "      <th>ICD10</th>\n",
       "      <th>Text</th>\n",
       "    </tr>\n",
       "  </thead>\n",
       "  <tbody>\n",
       "    <tr>\n",
       "      <th>0</th>\n",
       "      <td>A00</td>\n",
       "      <td>Холера</td>\n",
       "    </tr>\n",
       "    <tr>\n",
       "      <th>1</th>\n",
       "      <td>A00.0</td>\n",
       "      <td>Холера, предизвикана от холерен вибрион 01, би...</td>\n",
       "    </tr>\n",
       "    <tr>\n",
       "      <th>2</th>\n",
       "      <td>A00.1</td>\n",
       "      <td>Холера, предизвикана от холерен вибрион 01, би...</td>\n",
       "    </tr>\n",
       "    <tr>\n",
       "      <th>3</th>\n",
       "      <td>A00.9</td>\n",
       "      <td>Холера, неуточнена</td>\n",
       "    </tr>\n",
       "    <tr>\n",
       "      <th>4</th>\n",
       "      <td>A01</td>\n",
       "      <td>Тиф и паратиф</td>\n",
       "    </tr>\n",
       "  </tbody>\n",
       "</table>\n",
       "</div>"
      ],
      "text/plain": [
       "   ICD10                                               Text\n",
       "0    A00                                             Холера\n",
       "1  A00.0  Холера, предизвикана от холерен вибрион 01, би...\n",
       "2  A00.1  Холера, предизвикана от холерен вибрион 01, би...\n",
       "3  A00.9                                 Холера, неуточнена\n",
       "4    A01                                      Тиф и паратиф"
      ]
     },
     "execution_count": 63,
     "metadata": {},
     "output_type": "execute_result"
    }
   ],
   "source": [
    "df = get_valid_df(df, CODE_PATTERN)\n",
    "if len(get_invalid_codes(df, CODE_PATTERN)) == 0:\n",
    "    print('Dataframe contains only valid codes!')\n",
    "\n",
    "df.head()"
   ]
  },
  {
   "cell_type": "code",
   "execution_count": 64,
   "metadata": {},
   "outputs": [
    {
     "data": {
      "text/plain": [
       "(266853, 2)"
      ]
     },
     "execution_count": 64,
     "metadata": {},
     "output_type": "execute_result"
    }
   ],
   "source": [
    "df.shape"
   ]
  },
  {
   "cell_type": "markdown",
   "metadata": {},
   "source": [
    "___Concatenate 3 Sign Codes to 4 Sign Codes___"
   ]
  },
  {
   "cell_type": "code",
   "execution_count": 65,
   "metadata": {},
   "outputs": [
    {
     "data": {
      "text/html": [
       "<div>\n",
       "<style scoped>\n",
       "    .dataframe tbody tr th:only-of-type {\n",
       "        vertical-align: middle;\n",
       "    }\n",
       "\n",
       "    .dataframe tbody tr th {\n",
       "        vertical-align: top;\n",
       "    }\n",
       "\n",
       "    .dataframe thead th {\n",
       "        text-align: right;\n",
       "    }\n",
       "</style>\n",
       "<table border=\"1\" class=\"dataframe\">\n",
       "  <thead>\n",
       "    <tr style=\"text-align: right;\">\n",
       "      <th></th>\n",
       "      <th>ICD10</th>\n",
       "      <th>Text</th>\n",
       "    </tr>\n",
       "  </thead>\n",
       "  <tbody>\n",
       "    <tr>\n",
       "      <th>0</th>\n",
       "      <td>A00</td>\n",
       "      <td>Холера</td>\n",
       "    </tr>\n",
       "    <tr>\n",
       "      <th>1</th>\n",
       "      <td>A00.0</td>\n",
       "      <td>Холера, предизвикана от холерен вибрион 01, би...</td>\n",
       "    </tr>\n",
       "    <tr>\n",
       "      <th>2</th>\n",
       "      <td>A00.1</td>\n",
       "      <td>Холера, предизвикана от холерен вибрион 01, би...</td>\n",
       "    </tr>\n",
       "    <tr>\n",
       "      <th>3</th>\n",
       "      <td>A00.9</td>\n",
       "      <td>Холера, неуточнена</td>\n",
       "    </tr>\n",
       "    <tr>\n",
       "      <th>4</th>\n",
       "      <td>A01</td>\n",
       "      <td>Тиф и паратиф</td>\n",
       "    </tr>\n",
       "  </tbody>\n",
       "</table>\n",
       "</div>"
      ],
      "text/plain": [
       "   ICD10                                               Text\n",
       "0    A00                                             Холера\n",
       "1  A00.0  Холера, предизвикана от холерен вибрион 01, би...\n",
       "2  A00.1  Холера, предизвикана от холерен вибрион 01, би...\n",
       "3  A00.9                                 Холера, неуточнена\n",
       "4    A01                                      Тиф и паратиф"
      ]
     },
     "execution_count": 65,
     "metadata": {},
     "output_type": "execute_result"
    }
   ],
   "source": [
    "df_all_3sign = pd.read_csv(ICD10_ALL_3SIGN_FILE_NAME)\n",
    "df = pd.concat([df, df_all_3sign], ignore_index=True)\n",
    "df.head()"
   ]
  },
  {
   "cell_type": "code",
   "execution_count": 66,
   "metadata": {},
   "outputs": [
    {
     "data": {
      "text/plain": [
       "(456107, 2)"
      ]
     },
     "execution_count": 66,
     "metadata": {},
     "output_type": "execute_result"
    }
   ],
   "source": [
    "df.shape"
   ]
  },
  {
   "cell_type": "code",
   "execution_count": 67,
   "metadata": {},
   "outputs": [
    {
     "data": {
      "text/plain": [
       "(383042, 2)"
      ]
     },
     "execution_count": 67,
     "metadata": {},
     "output_type": "execute_result"
    }
   ],
   "source": [
    "df.drop_duplicates(inplace = True)\n",
    "df.shape"
   ]
  },
  {
   "cell_type": "markdown",
   "metadata": {},
   "source": [
    "***Filter by ICD10_bg_3sign.csv and ICD10_bg_4sign.csv***"
   ]
  },
  {
   "cell_type": "markdown",
   "metadata": {},
   "source": [
    "Get valid codes."
   ]
  },
  {
   "cell_type": "code",
   "execution_count": 68,
   "metadata": {},
   "outputs": [
    {
     "data": {
      "text/html": [
       "<div>\n",
       "<style scoped>\n",
       "    .dataframe tbody tr th:only-of-type {\n",
       "        vertical-align: middle;\n",
       "    }\n",
       "\n",
       "    .dataframe tbody tr th {\n",
       "        vertical-align: top;\n",
       "    }\n",
       "\n",
       "    .dataframe thead th {\n",
       "        text-align: right;\n",
       "    }\n",
       "</style>\n",
       "<table border=\"1\" class=\"dataframe\">\n",
       "  <thead>\n",
       "    <tr style=\"text-align: right;\">\n",
       "      <th></th>\n",
       "      <th>ICD10</th>\n",
       "      <th>Text</th>\n",
       "    </tr>\n",
       "  </thead>\n",
       "  <tbody>\n",
       "    <tr>\n",
       "      <th>0</th>\n",
       "      <td>A00</td>\n",
       "      <td>Холера</td>\n",
       "    </tr>\n",
       "    <tr>\n",
       "      <th>1</th>\n",
       "      <td>A00.0</td>\n",
       "      <td>Холера, предизвикана от холерен вибрион 01, би...</td>\n",
       "    </tr>\n",
       "    <tr>\n",
       "      <th>2</th>\n",
       "      <td>A00.1</td>\n",
       "      <td>Холера, предизвикана от холерен вибрион 01, би...</td>\n",
       "    </tr>\n",
       "    <tr>\n",
       "      <th>3</th>\n",
       "      <td>A00.9</td>\n",
       "      <td>Холера, неуточнена</td>\n",
       "    </tr>\n",
       "    <tr>\n",
       "      <th>4</th>\n",
       "      <td>A01</td>\n",
       "      <td>Тиф и паратиф</td>\n",
       "    </tr>\n",
       "  </tbody>\n",
       "</table>\n",
       "</div>"
      ],
      "text/plain": [
       "   ICD10                                               Text\n",
       "0    A00                                             Холера\n",
       "1  A00.0  Холера, предизвикана от холерен вибрион 01, би...\n",
       "2  A00.1  Холера, предизвикана от холерен вибрион 01, би...\n",
       "3  A00.9                                 Холера, неуточнена\n",
       "4    A01                                      Тиф и паратиф"
      ]
     },
     "execution_count": 68,
     "metadata": {},
     "output_type": "execute_result"
    }
   ],
   "source": [
    "df_icd10_bg_3sign = pd.read_csv(ICD10_BG_3SIGN_FILE_NAME, header=None, names=['ICD10', 'Text'])\n",
    "df_valid_codes = pd.concat([df_icd10_bg, df_icd10_bg_3sign], ignore_index=True)\n",
    "df_valid_codes.head()"
   ]
  },
  {
   "cell_type": "code",
   "execution_count": 69,
   "metadata": {},
   "outputs": [
    {
     "data": {
      "text/plain": [
       "11064"
      ]
     },
     "execution_count": 69,
     "metadata": {},
     "output_type": "execute_result"
    }
   ],
   "source": [
    "valid_codes = df_valid_codes['ICD10'].unique()\n",
    "len(valid_codes)"
   ]
  },
  {
   "cell_type": "markdown",
   "metadata": {},
   "source": [
    "Try to transform invalid codes to valid codes."
   ]
  },
  {
   "cell_type": "code",
   "execution_count": 70,
   "metadata": {},
   "outputs": [
    {
     "name": "stdout",
     "output_type": "stream",
     "text": [
      "4582 valid ICD10 records are generated from invalid ICD10 codes!\n",
      "The generated unique valid ICD10 codes are 150:\n",
      "['E07' 'E13' 'E27' 'F10' 'G06' 'N05' 'R05' 'E14' 'Z97' 'Z84' 'N00' 'N01'\n",
      " 'N02' 'N03' 'N04' 'N06' 'N07' 'R89' 'R87' 'M36' 'I99' 'R86' 'M68' 'B49'\n",
      " 'F13' 'P08' 'F12' 'F14' 'F11' 'F15' 'F19' 'F16' 'F18' 'E10' 'E11' 'E12'\n",
      " 'Q35' 'F17' 'H00' 'R45' 'L85' 'K27' 'Q27' 'O02' 'Q14' 'E85' 'R84' 'F54'\n",
      " 'F05' 'P95' 'N70' 'D18' 'P11' 'B15' 'N62' 'F78' 'R32' 'B22' 'K28' 'K26'\n",
      " 'K25' 'M45' 'I27' 'E71' 'C93' 'D68' 'E31' 'E78' 'A92' 'C84' 'C85' 'C94'\n",
      " 'D47' 'B19' 'E88' 'R53' 'C81' 'C82' 'C91' 'F71' 'C80' 'K02' 'G47' 'C88'\n",
      " 'L89' 'N45' 'N47' 'N36' 'A38' 'G83' 'H46' 'H73' 'N46' 'A24' 'D70' 'K20'\n",
      " 'K85' 'R80' 'A77' 'C90' 'D89' 'E70' 'I72' 'M79' 'N50' 'H71' 'L74' 'F42'\n",
      " 'R48' 'A48' 'A07' 'C46' 'J47' 'M67' 'O14' 'Q31' 'R31' 'C96' 'J81' 'N26'\n",
      " 'H55' 'O43' 'I31' 'R91' 'K22' 'N44' 'F01' 'M31' 'F72' 'G90' 'G98' 'G44'\n",
      " 'H47' 'B33' 'K52' 'L82' 'M72' 'Q83' 'G25' 'I50' 'I77' 'K55' 'N41' 'N21'\n",
      " 'C92' 'H15' 'Q03' 'E25' 'K43' 'L56']\n"
     ]
    },
    {
     "name": "stderr",
     "output_type": "stream",
     "text": [
      "C:\\ProgramData\\Anaconda3\\lib\\site-packages\\ipykernel_launcher.py:2: SettingWithCopyWarning: \n",
      "A value is trying to be set on a copy of a slice from a DataFrame.\n",
      "Try using .loc[row_indexer,col_indexer] = value instead\n",
      "\n",
      "See the caveats in the documentation: https://pandas.pydata.org/pandas-docs/stable/user_guide/indexing.html#returning-a-view-versus-a-copy\n",
      "  \n"
     ]
    },
    {
     "data": {
      "text/html": [
       "<div>\n",
       "<style scoped>\n",
       "    .dataframe tbody tr th:only-of-type {\n",
       "        vertical-align: middle;\n",
       "    }\n",
       "\n",
       "    .dataframe tbody tr th {\n",
       "        vertical-align: top;\n",
       "    }\n",
       "\n",
       "    .dataframe thead th {\n",
       "        text-align: right;\n",
       "    }\n",
       "</style>\n",
       "<table border=\"1\" class=\"dataframe\">\n",
       "  <thead>\n",
       "    <tr style=\"text-align: right;\">\n",
       "      <th></th>\n",
       "      <th>ICD10</th>\n",
       "      <th>Text</th>\n",
       "    </tr>\n",
       "  </thead>\n",
       "  <tbody>\n",
       "    <tr>\n",
       "      <th>0</th>\n",
       "      <td>A00</td>\n",
       "      <td>Холера</td>\n",
       "    </tr>\n",
       "    <tr>\n",
       "      <th>1</th>\n",
       "      <td>A00.0</td>\n",
       "      <td>Холера, предизвикана от холерен вибрион 01, би...</td>\n",
       "    </tr>\n",
       "    <tr>\n",
       "      <th>2</th>\n",
       "      <td>A00.1</td>\n",
       "      <td>Холера, предизвикана от холерен вибрион 01, би...</td>\n",
       "    </tr>\n",
       "    <tr>\n",
       "      <th>3</th>\n",
       "      <td>A00.9</td>\n",
       "      <td>Холера, неуточнена</td>\n",
       "    </tr>\n",
       "    <tr>\n",
       "      <th>4</th>\n",
       "      <td>A01</td>\n",
       "      <td>Тиф и паратиф</td>\n",
       "    </tr>\n",
       "  </tbody>\n",
       "</table>\n",
       "</div>"
      ],
      "text/plain": [
       "   ICD10                                               Text\n",
       "0    A00                                             Холера\n",
       "1  A00.0  Холера, предизвикана от холерен вибрион 01, би...\n",
       "2  A00.1  Холера, предизвикана от холерен вибрион 01, би...\n",
       "3  A00.9                                 Холера, неуточнена\n",
       "4    A01                                      Тиф и паратиф"
      ]
     },
     "execution_count": 70,
     "metadata": {},
     "output_type": "execute_result"
    }
   ],
   "source": [
    "df_invalid_codes = df[~df['ICD10'].isin(valid_codes)]\n",
    "df_invalid_codes['ICD10'] = df_invalid_codes['ICD10'].str[0:3]\n",
    "\n",
    "df_valid_invalid_codes = df_invalid_codes[df_invalid_codes['ICD10'].isin(valid_codes)]\n",
    "if len(df_valid_invalid_codes) > 0:\n",
    "    print('{0} valid ICD10 records are generated from invalid ICD10 codes!'.format(len(df_valid_invalid_codes)))\n",
    "    print('The generated unique valid ICD10 codes are {0}:'.format(len(df_valid_invalid_codes['ICD10'].unique())))\n",
    "    print(df_valid_invalid_codes['ICD10'].unique())\n",
    "    df = pd.concat([df, df_valid_invalid_codes], ignore_index=True)\n",
    "df.head()"
   ]
  },
  {
   "cell_type": "code",
   "execution_count": 71,
   "metadata": {},
   "outputs": [
    {
     "data": {
      "text/plain": [
       "(387624, 2)"
      ]
     },
     "execution_count": 71,
     "metadata": {},
     "output_type": "execute_result"
    }
   ],
   "source": [
    "df.shape"
   ]
  },
  {
   "cell_type": "code",
   "execution_count": 72,
   "metadata": {},
   "outputs": [
    {
     "data": {
      "text/plain": [
       "(383042, 2)"
      ]
     },
     "execution_count": 72,
     "metadata": {},
     "output_type": "execute_result"
    }
   ],
   "source": [
    "df.drop_duplicates(inplace = True)\n",
    "df.shape"
   ]
  },
  {
   "cell_type": "markdown",
   "metadata": {},
   "source": [
    "> _All generated (transformed) records are duplicates!_"
   ]
  },
  {
   "cell_type": "code",
   "execution_count": 73,
   "metadata": {},
   "outputs": [
    {
     "name": "stdout",
     "output_type": "stream",
     "text": [
      "29 unique ICD10 codes cannot be transformed to valid ICD10 codes:\n"
     ]
    },
    {
     "data": {
      "text/plain": [
       "array(['M56', 'B12', 'M26', 'B98', 'M58', 'B07', 'J59', 'G65', 'K34',\n",
       "       'N38', 'N68', 'O54', 'F08', 'F46', 'E36', 'I17', 'C86', 'J09',\n",
       "       'M04', 'M27', 'U06', 'K64', 'I75', 'G89', 'P84', 'R37', 'E08',\n",
       "       'G14', 'C28'], dtype=object)"
      ]
     },
     "execution_count": 73,
     "metadata": {},
     "output_type": "execute_result"
    }
   ],
   "source": [
    "invalid_codes_3sign = df_invalid_codes[~df_invalid_codes['ICD10'].isin(valid_codes)]['ICD10'].unique()\n",
    "print('{0} unique ICD10 codes cannot be transformed to valid ICD10 codes:'.format(len(invalid_codes_3sign)))\n",
    "invalid_codes_3sign"
   ]
  },
  {
   "cell_type": "code",
   "execution_count": 74,
   "metadata": {},
   "outputs": [
    {
     "name": "stdout",
     "output_type": "stream",
     "text": [
      "Invalid codes without transformations are 435:\n"
     ]
    },
    {
     "data": {
      "text/plain": [
       "array(['E07.7', 'E13.5', 'E27.6', 'E27.7', 'E13.1', 'E13.4', 'E13.7',\n",
       "       'F10.3', 'G06.6', 'N05.0', 'R05.2', 'M56.8', 'F10.4', 'F10.6',\n",
       "       'F10.7', 'F10.2', 'F10.0', 'F10.5', 'E14.4', 'Z97.6', 'Z84.4',\n",
       "       'E14.5', 'E14.3', 'B12', 'M26.4', 'N00.0', 'N01.0', 'N02.0',\n",
       "       'N03.0', 'N04.0', 'N06.0', 'N07.0', 'R89.4', 'R89.8', 'R89.6',\n",
       "       'R87.6', 'R89.7', 'E14.6', 'M36.6', 'I99.0', 'R86.9', 'M68.2',\n",
       "       'B98.9', 'M58.0', 'B49.0', 'N00.6', 'N01.6', 'N02.6', 'N03.6',\n",
       "       'N04.6', 'N05.6', 'N06.6', 'N07.6', 'B07', 'F13.2', 'P08.8',\n",
       "       'F10.1', 'F13.1', 'F12.1', 'F14.1', 'F11.1', 'F15.1', 'F19.1',\n",
       "       'F16.1', 'F18.1', 'J59.9', 'N00.3', 'N01.3', 'N02.3', 'N03.3',\n",
       "       'N04.3', 'N05.3', 'N06.3', 'N07.3', 'N00.5', 'N01.5', 'N02.5',\n",
       "       'N03.5', 'N04.5', 'N05.5', 'N06.5', 'N07.5', 'N00.2', 'N01.2',\n",
       "       'N02.2', 'N03.2', 'N04.2', 'N05.2', 'N06.2', 'N07.2', 'N00.7',\n",
       "       'N01.7', 'N02.7', 'N03.7', 'N04.7', 'N05.7', 'N06.7', 'N07.7',\n",
       "       'N00.4', 'N01.4', 'N02.4', 'N03.4', 'N04.4', 'N05.4', 'N06.4',\n",
       "       'N07.4', 'N05.8', 'N00.8', 'N01.8', 'N02.8', 'N03.8', 'N04.8',\n",
       "       'N06.8', 'N07.8', 'N05.9', 'E14.2', 'N00.1', 'N01.1', 'N02.1',\n",
       "       'N03.1', 'N04.1', 'N05.1', 'N06.1', 'N07.1', 'E07.2', 'F15.0',\n",
       "       'F18.0', 'F12.0', 'F14.0', 'F11.0', 'F19.4', 'F19.0', 'F13.4',\n",
       "       'F13.0', 'F16.0', 'F18.7', 'F13.7', 'E10.1', 'E11.1', 'E12.1',\n",
       "       'E14.1', 'E10.5', 'E11.5', 'E12.5', 'E10.2', 'E11.2', 'E12.2',\n",
       "       'E13.2', 'E10.3', 'E11.3', 'E12.3', 'E13.3', 'E10.6', 'E11.6',\n",
       "       'E12.6', 'E13.6', 'E10.4', 'E11.4', 'E12.4', 'Q35.8', 'F10.8',\n",
       "       'F15.8', 'F13.8', 'F12.8', 'F14.8', 'F19.8', 'F18.2', 'F15.2',\n",
       "       'F19.2', 'F12.2', 'F11.2', 'F14.2', 'F16.2', 'F17.2', 'G65.0',\n",
       "       'F17.1', 'K34.2', 'H00.5', 'N38.1', 'R45.9', 'E10.0', 'E11.0',\n",
       "       'E12.0', 'E13.0', 'E14.0', 'N68.8', 'L85.5', 'M68.5', 'K27.9',\n",
       "       'Q27.5', 'K27.4', 'O02.2', 'Q14.4', 'F11.3', 'F15.3', 'F15.4',\n",
       "       'F12.3', 'F14.3', 'F14.4', 'F19.3', 'F18.3', 'F18.4', 'F11.4',\n",
       "       'F13.3', 'F17.3', 'F16.3', 'F16.4', 'E85.5', 'O54.9', 'R84.5',\n",
       "       'R89.5', 'F54.3', 'N06.9', 'F13.6', 'F15.9', 'F19.7', 'F18.8',\n",
       "       'F11.8', 'F16.8', 'F12.7', 'F16.7', 'F12.9', 'F13.9', 'F17.9',\n",
       "       'F15.5', 'F18.5', 'F12.5', 'F14.5', 'F11.5', 'F19.5', 'F13.5',\n",
       "       'F16.5', 'F10.9', 'F18.9', 'F14.9', 'F11.9', 'F19.9', 'F16.9',\n",
       "       'F05.6', 'P95.1', 'F17.0', 'N70.3', 'D18.8', 'P11.8', 'F08.1',\n",
       "       'F46.0', 'E36.0', 'B15.1', 'N62.8', 'F78.3', 'R32.1', 'B22.9',\n",
       "       'K28.9', 'K28.3', 'K28.0', 'K28.2', 'K28.1', 'K28.4', 'K28.6',\n",
       "       'K28.5', 'K28.7', 'K26.9', 'K26.3', 'K26.0', 'K26.2', 'K26.1',\n",
       "       'K26.4', 'K26.6', 'K26.5', 'K26.7', 'K27.3', 'K27.0', 'K27.2',\n",
       "       'K27.1', 'K27.6', 'K27.5', 'K27.7', 'K25.9', 'K25.3', 'K25.0',\n",
       "       'K25.2', 'K25.1', 'K25.4', 'K25.6', 'K25.5', 'K25.7', 'M45.3',\n",
       "       'I17.1', 'I27.2', 'E71.5', 'C93.3', 'D68.5', 'E31.2', 'E71.4',\n",
       "       'E78.7', 'A92.5', 'B07.8', 'C84.6', 'C84.7', 'C85.2', 'C86.2',\n",
       "       'C94.8', 'D47.4', 'D68.6', 'E11.8', 'E13.8', 'J09', 'M04.1',\n",
       "       'M27.8', 'U06', 'B19.2', 'E88.4', 'R53.8', 'C81.4', 'C82.6',\n",
       "       'C86.0', 'C86.3', 'C86.4', 'C91.6', 'D47.5', 'F71.1', 'M27.1',\n",
       "       'K64', 'C80.1', 'C86.6', 'K02.6', 'G47.6', 'B07.0', 'C88.4',\n",
       "       'L89.9', 'N45.2', 'N47.1', 'N36.4', 'A38.9', 'G83.5', 'H46.0',\n",
       "       'H46.9', 'H73.2', 'M27.3', 'I75', 'G47.5', 'N46.0', 'A24.9',\n",
       "       'D70.9', 'K20.9', 'K85.9', 'R80.9', 'A77.4', 'C90.3', 'D89.4',\n",
       "       'E70.4', 'N46.1', 'G89.4', 'I72.5', 'M79.7', 'N45.1', 'N47.2',\n",
       "       'N50.3', 'H71.9', 'L74.5', 'F42.4', 'R48.3', 'A48.5', 'A07.4',\n",
       "       'C46.4', 'C46.5', 'J47.9', 'M67.5', 'O14.2', 'Q31.5', 'R31.1',\n",
       "       'P84', 'C96.5', 'C96.6', 'J81.1', 'N26.9', 'N47.6', 'R37', 'H55.0',\n",
       "       'O43.2', 'I31.4', 'N46.9', 'R91.1', 'K22.7', 'N44.0', 'F01.5',\n",
       "       'K64.5', 'M31.7', 'N45.3', 'D70.4', 'F72.9', 'G90.4', 'G98.8',\n",
       "       'E08', 'G14', 'G44.5', 'H47.9', 'B33.4', 'C96.4', 'K52.3', 'L82.1',\n",
       "       'M72.6', 'R80.2', 'C80.9', 'Q83.5', 'G25.7', 'H71.0', 'I50.2',\n",
       "       'H46.2', 'H46.3', 'N36.5', 'I50.3', 'R80.3', 'I75.8', 'K20.0',\n",
       "       'I77.7', 'K55.3', 'N41.4', 'N21.5', 'C92.6', 'G90.5', 'H15.5',\n",
       "       'K85.0', 'K85.1', 'K85.2', 'K85.3', 'K85.8', 'L82.0', 'C92.8',\n",
       "       'C86.5', 'Q03.2', 'C28.9', 'E25.7', 'K43.6', 'L56.5'], dtype=object)"
      ]
     },
     "execution_count": 74,
     "metadata": {},
     "output_type": "execute_result"
    }
   ],
   "source": [
    "invalid_codes = df[~df['ICD10'].isin(valid_codes)]['ICD10'].unique()\n",
    "print('Invalid codes without transformations are {0}:'.format(len(invalid_codes)))\n",
    "invalid_codes"
   ]
  },
  {
   "cell_type": "markdown",
   "metadata": {},
   "source": [
    "Remove invalid codes"
   ]
  },
  {
   "cell_type": "code",
   "execution_count": 75,
   "metadata": {},
   "outputs": [
    {
     "data": {
      "text/html": [
       "<div>\n",
       "<style scoped>\n",
       "    .dataframe tbody tr th:only-of-type {\n",
       "        vertical-align: middle;\n",
       "    }\n",
       "\n",
       "    .dataframe tbody tr th {\n",
       "        vertical-align: top;\n",
       "    }\n",
       "\n",
       "    .dataframe thead th {\n",
       "        text-align: right;\n",
       "    }\n",
       "</style>\n",
       "<table border=\"1\" class=\"dataframe\">\n",
       "  <thead>\n",
       "    <tr style=\"text-align: right;\">\n",
       "      <th></th>\n",
       "      <th>ICD10</th>\n",
       "      <th>Text</th>\n",
       "    </tr>\n",
       "  </thead>\n",
       "  <tbody>\n",
       "    <tr>\n",
       "      <th>0</th>\n",
       "      <td>A00</td>\n",
       "      <td>Холера</td>\n",
       "    </tr>\n",
       "    <tr>\n",
       "      <th>1</th>\n",
       "      <td>A00.0</td>\n",
       "      <td>Холера, предизвикана от холерен вибрион 01, би...</td>\n",
       "    </tr>\n",
       "    <tr>\n",
       "      <th>2</th>\n",
       "      <td>A00.1</td>\n",
       "      <td>Холера, предизвикана от холерен вибрион 01, би...</td>\n",
       "    </tr>\n",
       "    <tr>\n",
       "      <th>3</th>\n",
       "      <td>A00.9</td>\n",
       "      <td>Холера, неуточнена</td>\n",
       "    </tr>\n",
       "    <tr>\n",
       "      <th>4</th>\n",
       "      <td>A01</td>\n",
       "      <td>Тиф и паратиф</td>\n",
       "    </tr>\n",
       "  </tbody>\n",
       "</table>\n",
       "</div>"
      ],
      "text/plain": [
       "   ICD10                                               Text\n",
       "0    A00                                             Холера\n",
       "1  A00.0  Холера, предизвикана от холерен вибрион 01, би...\n",
       "2  A00.1  Холера, предизвикана от холерен вибрион 01, би...\n",
       "3  A00.9                                 Холера, неуточнена\n",
       "4    A01                                      Тиф и паратиф"
      ]
     },
     "execution_count": 75,
     "metadata": {},
     "output_type": "execute_result"
    }
   ],
   "source": [
    "df = df[df['ICD10'].isin(valid_codes)]\n",
    "df.head()"
   ]
  },
  {
   "cell_type": "code",
   "execution_count": 76,
   "metadata": {},
   "outputs": [
    {
     "data": {
      "text/plain": [
       "(377939, 2)"
      ]
     },
     "execution_count": 76,
     "metadata": {},
     "output_type": "execute_result"
    }
   ],
   "source": [
    "df.shape"
   ]
  },
  {
   "cell_type": "code",
   "execution_count": 77,
   "metadata": {},
   "outputs": [
    {
     "data": {
      "text/plain": [
       "(377939, 2)"
      ]
     },
     "execution_count": 77,
     "metadata": {},
     "output_type": "execute_result"
    }
   ],
   "source": [
    "df.drop_duplicates(inplace = True)\n",
    "df.shape"
   ]
  },
  {
   "cell_type": "code",
   "execution_count": 79,
   "metadata": {},
   "outputs": [
    {
     "data": {
      "text/plain": [
       "10971"
      ]
     },
     "execution_count": 79,
     "metadata": {},
     "output_type": "execute_result"
    }
   ],
   "source": [
    "len(df['ICD10'].unique())"
   ]
  },
  {
   "cell_type": "markdown",
   "metadata": {},
   "source": [
    "### Save Dataframe"
   ]
  },
  {
   "cell_type": "code",
   "execution_count": 47,
   "metadata": {
    "collapsed": true
   },
   "outputs": [],
   "source": [
    "# file_name = '{0}{1}'.format(WRITE_DIR, RESULT_FILE_NAME)\n",
    "# df.to_csv(file_name, sep=',', encoding='utf-8', header=True, index=False)"
   ]
  }
 ],
 "metadata": {
  "kernelspec": {
   "display_name": "Python 3",
   "language": "python",
   "name": "python3"
  },
  "language_info": {
   "codemirror_mode": {
    "name": "ipython",
    "version": 3
   },
   "file_extension": ".py",
   "mimetype": "text/x-python",
   "name": "python",
   "nbconvert_exporter": "python",
   "pygments_lexer": "ipython3",
   "version": "3.6.10"
  }
 },
 "nbformat": 4,
 "nbformat_minor": 2
}
